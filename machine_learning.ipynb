{
 "cells": [
  {
   "cell_type": "markdown",
   "metadata": {},
   "source": [
    "# Задача классификации\n",
    "\n",
    "## Описание задачи\n",
    "### Оценка качества белого и красного вина\n",
    " Задача заключается в предсказании качества португальского вина \"Vinho Verde\", основываясь на наборе некоторых признаков, которые можно непосредственно измерить.\n",
    "\n",
    "## Загрузка данных\n"
   ]
  },
  {
   "cell_type": "code",
   "execution_count": 1,
   "metadata": {},
   "outputs": [],
   "source": [
    "import numpy as np\n",
    "import pandas as pd\n",
    "import matplotlib.pyplot as plt\n",
    "import seaborn as sns"
   ]
  },
  {
   "cell_type": "code",
   "execution_count": 2,
   "metadata": {},
   "outputs": [],
   "source": [
    "data = pd.read_csv(\"C:/Users/troeg/ml/wine.csv\")"
   ]
  },
  {
   "cell_type": "markdown",
   "metadata": {},
   "source": [
    "Датасет содержит данные о 6497 различных винах (объектах), каждому из которых соответствует значение 15 признаков. Каждому признаку соответствует столбец. Убедимся, что загруженная таблица действительно имеет соответствующую размерность."
   ]
  },
  {
   "cell_type": "code",
   "execution_count": 3,
   "metadata": {},
   "outputs": [
    {
     "data": {
      "text/plain": [
       "(6497, 15)"
      ]
     },
     "execution_count": 3,
     "metadata": {},
     "output_type": "execute_result"
    }
   ],
   "source": [
    "data.shape"
   ]
  },
  {
   "cell_type": "markdown",
   "metadata": {},
   "source": [
    "Отобразим некоторые строки таблицы (первые 5 и последние 5 строк)"
   ]
  },
  {
   "cell_type": "code",
   "execution_count": 4,
   "metadata": {},
   "outputs": [
    {
     "data": {
      "text/html": [
       "<div>\n",
       "<style scoped>\n",
       "    .dataframe tbody tr th:only-of-type {\n",
       "        vertical-align: middle;\n",
       "    }\n",
       "\n",
       "    .dataframe tbody tr th {\n",
       "        vertical-align: top;\n",
       "    }\n",
       "\n",
       "    .dataframe thead th {\n",
       "        text-align: right;\n",
       "    }\n",
       "</style>\n",
       "<table border=\"1\" class=\"dataframe\">\n",
       "  <thead>\n",
       "    <tr style=\"text-align: right;\">\n",
       "      <th></th>\n",
       "      <th>Unnamed: 0</th>\n",
       "      <th>fixed acidity</th>\n",
       "      <th>volatile acidity</th>\n",
       "      <th>citric acid</th>\n",
       "      <th>residual sugar</th>\n",
       "      <th>chlorides</th>\n",
       "      <th>free sulfur dioxide</th>\n",
       "      <th>total sulfur dioxide</th>\n",
       "      <th>density</th>\n",
       "      <th>pH</th>\n",
       "      <th>sulphates</th>\n",
       "      <th>alcohol</th>\n",
       "      <th>quality</th>\n",
       "      <th>color</th>\n",
       "      <th>high_quality</th>\n",
       "    </tr>\n",
       "  </thead>\n",
       "  <tbody>\n",
       "    <tr>\n",
       "      <th>0</th>\n",
       "      <td>0</td>\n",
       "      <td>7.4</td>\n",
       "      <td>0.70</td>\n",
       "      <td>0.00</td>\n",
       "      <td>1.9</td>\n",
       "      <td>0.076</td>\n",
       "      <td>11.0</td>\n",
       "      <td>34.0</td>\n",
       "      <td>0.99780</td>\n",
       "      <td>3.51</td>\n",
       "      <td>0.56</td>\n",
       "      <td>9.4</td>\n",
       "      <td>5</td>\n",
       "      <td>red</td>\n",
       "      <td>0</td>\n",
       "    </tr>\n",
       "    <tr>\n",
       "      <th>1</th>\n",
       "      <td>1</td>\n",
       "      <td>7.8</td>\n",
       "      <td>0.88</td>\n",
       "      <td>0.00</td>\n",
       "      <td>2.6</td>\n",
       "      <td>0.098</td>\n",
       "      <td>25.0</td>\n",
       "      <td>67.0</td>\n",
       "      <td>0.99680</td>\n",
       "      <td>3.20</td>\n",
       "      <td>0.68</td>\n",
       "      <td>9.8</td>\n",
       "      <td>5</td>\n",
       "      <td>red</td>\n",
       "      <td>0</td>\n",
       "    </tr>\n",
       "    <tr>\n",
       "      <th>2</th>\n",
       "      <td>2</td>\n",
       "      <td>7.8</td>\n",
       "      <td>0.76</td>\n",
       "      <td>0.04</td>\n",
       "      <td>2.3</td>\n",
       "      <td>0.092</td>\n",
       "      <td>15.0</td>\n",
       "      <td>54.0</td>\n",
       "      <td>0.99700</td>\n",
       "      <td>3.26</td>\n",
       "      <td>0.65</td>\n",
       "      <td>9.8</td>\n",
       "      <td>5</td>\n",
       "      <td>red</td>\n",
       "      <td>0</td>\n",
       "    </tr>\n",
       "    <tr>\n",
       "      <th>3</th>\n",
       "      <td>3</td>\n",
       "      <td>11.2</td>\n",
       "      <td>0.28</td>\n",
       "      <td>0.56</td>\n",
       "      <td>1.9</td>\n",
       "      <td>0.075</td>\n",
       "      <td>17.0</td>\n",
       "      <td>60.0</td>\n",
       "      <td>0.99800</td>\n",
       "      <td>3.16</td>\n",
       "      <td>0.58</td>\n",
       "      <td>9.8</td>\n",
       "      <td>6</td>\n",
       "      <td>red</td>\n",
       "      <td>1</td>\n",
       "    </tr>\n",
       "    <tr>\n",
       "      <th>4</th>\n",
       "      <td>4</td>\n",
       "      <td>7.4</td>\n",
       "      <td>0.70</td>\n",
       "      <td>0.00</td>\n",
       "      <td>1.9</td>\n",
       "      <td>0.076</td>\n",
       "      <td>11.0</td>\n",
       "      <td>34.0</td>\n",
       "      <td>0.99780</td>\n",
       "      <td>3.51</td>\n",
       "      <td>0.56</td>\n",
       "      <td>9.4</td>\n",
       "      <td>5</td>\n",
       "      <td>red</td>\n",
       "      <td>0</td>\n",
       "    </tr>\n",
       "    <tr>\n",
       "      <th>...</th>\n",
       "      <td>...</td>\n",
       "      <td>...</td>\n",
       "      <td>...</td>\n",
       "      <td>...</td>\n",
       "      <td>...</td>\n",
       "      <td>...</td>\n",
       "      <td>...</td>\n",
       "      <td>...</td>\n",
       "      <td>...</td>\n",
       "      <td>...</td>\n",
       "      <td>...</td>\n",
       "      <td>...</td>\n",
       "      <td>...</td>\n",
       "      <td>...</td>\n",
       "      <td>...</td>\n",
       "    </tr>\n",
       "    <tr>\n",
       "      <th>6492</th>\n",
       "      <td>4893</td>\n",
       "      <td>6.2</td>\n",
       "      <td>0.21</td>\n",
       "      <td>0.29</td>\n",
       "      <td>1.6</td>\n",
       "      <td>0.039</td>\n",
       "      <td>24.0</td>\n",
       "      <td>92.0</td>\n",
       "      <td>0.99114</td>\n",
       "      <td>3.27</td>\n",
       "      <td>0.50</td>\n",
       "      <td>11.2</td>\n",
       "      <td>6</td>\n",
       "      <td>white</td>\n",
       "      <td>1</td>\n",
       "    </tr>\n",
       "    <tr>\n",
       "      <th>6493</th>\n",
       "      <td>4894</td>\n",
       "      <td>6.6</td>\n",
       "      <td>0.32</td>\n",
       "      <td>0.36</td>\n",
       "      <td>8.0</td>\n",
       "      <td>0.047</td>\n",
       "      <td>57.0</td>\n",
       "      <td>168.0</td>\n",
       "      <td>0.99490</td>\n",
       "      <td>3.15</td>\n",
       "      <td>0.46</td>\n",
       "      <td>9.6</td>\n",
       "      <td>5</td>\n",
       "      <td>white</td>\n",
       "      <td>0</td>\n",
       "    </tr>\n",
       "    <tr>\n",
       "      <th>6494</th>\n",
       "      <td>4895</td>\n",
       "      <td>6.5</td>\n",
       "      <td>0.24</td>\n",
       "      <td>0.19</td>\n",
       "      <td>1.2</td>\n",
       "      <td>0.041</td>\n",
       "      <td>30.0</td>\n",
       "      <td>111.0</td>\n",
       "      <td>0.99254</td>\n",
       "      <td>2.99</td>\n",
       "      <td>0.46</td>\n",
       "      <td>9.4</td>\n",
       "      <td>6</td>\n",
       "      <td>white</td>\n",
       "      <td>1</td>\n",
       "    </tr>\n",
       "    <tr>\n",
       "      <th>6495</th>\n",
       "      <td>4896</td>\n",
       "      <td>5.5</td>\n",
       "      <td>0.29</td>\n",
       "      <td>0.30</td>\n",
       "      <td>1.1</td>\n",
       "      <td>0.022</td>\n",
       "      <td>20.0</td>\n",
       "      <td>110.0</td>\n",
       "      <td>0.98869</td>\n",
       "      <td>3.34</td>\n",
       "      <td>0.38</td>\n",
       "      <td>12.8</td>\n",
       "      <td>7</td>\n",
       "      <td>white</td>\n",
       "      <td>1</td>\n",
       "    </tr>\n",
       "    <tr>\n",
       "      <th>6496</th>\n",
       "      <td>4897</td>\n",
       "      <td>6.0</td>\n",
       "      <td>0.21</td>\n",
       "      <td>0.38</td>\n",
       "      <td>0.8</td>\n",
       "      <td>0.020</td>\n",
       "      <td>22.0</td>\n",
       "      <td>98.0</td>\n",
       "      <td>0.98941</td>\n",
       "      <td>3.26</td>\n",
       "      <td>0.32</td>\n",
       "      <td>11.8</td>\n",
       "      <td>6</td>\n",
       "      <td>white</td>\n",
       "      <td>1</td>\n",
       "    </tr>\n",
       "  </tbody>\n",
       "</table>\n",
       "<p>6497 rows × 15 columns</p>\n",
       "</div>"
      ],
      "text/plain": [
       "      Unnamed: 0  fixed acidity  volatile acidity  citric acid  \\\n",
       "0              0            7.4              0.70         0.00   \n",
       "1              1            7.8              0.88         0.00   \n",
       "2              2            7.8              0.76         0.04   \n",
       "3              3           11.2              0.28         0.56   \n",
       "4              4            7.4              0.70         0.00   \n",
       "...          ...            ...               ...          ...   \n",
       "6492        4893            6.2              0.21         0.29   \n",
       "6493        4894            6.6              0.32         0.36   \n",
       "6494        4895            6.5              0.24         0.19   \n",
       "6495        4896            5.5              0.29         0.30   \n",
       "6496        4897            6.0              0.21         0.38   \n",
       "\n",
       "      residual sugar  chlorides  free sulfur dioxide  total sulfur dioxide  \\\n",
       "0                1.9      0.076                 11.0                  34.0   \n",
       "1                2.6      0.098                 25.0                  67.0   \n",
       "2                2.3      0.092                 15.0                  54.0   \n",
       "3                1.9      0.075                 17.0                  60.0   \n",
       "4                1.9      0.076                 11.0                  34.0   \n",
       "...              ...        ...                  ...                   ...   \n",
       "6492             1.6      0.039                 24.0                  92.0   \n",
       "6493             8.0      0.047                 57.0                 168.0   \n",
       "6494             1.2      0.041                 30.0                 111.0   \n",
       "6495             1.1      0.022                 20.0                 110.0   \n",
       "6496             0.8      0.020                 22.0                  98.0   \n",
       "\n",
       "      density    pH  sulphates  alcohol  quality  color  high_quality  \n",
       "0     0.99780  3.51       0.56      9.4        5    red             0  \n",
       "1     0.99680  3.20       0.68      9.8        5    red             0  \n",
       "2     0.99700  3.26       0.65      9.8        5    red             0  \n",
       "3     0.99800  3.16       0.58      9.8        6    red             1  \n",
       "4     0.99780  3.51       0.56      9.4        5    red             0  \n",
       "...       ...   ...        ...      ...      ...    ...           ...  \n",
       "6492  0.99114  3.27       0.50     11.2        6  white             1  \n",
       "6493  0.99490  3.15       0.46      9.6        5  white             0  \n",
       "6494  0.99254  2.99       0.46      9.4        6  white             1  \n",
       "6495  0.98869  3.34       0.38     12.8        7  white             1  \n",
       "6496  0.98941  3.26       0.32     11.8        6  white             1  \n",
       "\n",
       "[6497 rows x 15 columns]"
      ]
     },
     "execution_count": 4,
     "metadata": {},
     "output_type": "execute_result"
    }
   ],
   "source": [
    "data"
   ]
  },
  {
   "cell_type": "markdown",
   "metadata": {},
   "source": [
    "## Информация о наборе данных\n"
   ]
  },
  {
   "cell_type": "code",
   "execution_count": 5,
   "metadata": {},
   "outputs": [
    {
     "name": "stdout",
     "output_type": "stream",
     "text": [
      "<class 'pandas.core.frame.DataFrame'>\n",
      "RangeIndex: 6497 entries, 0 to 6496\n",
      "Data columns (total 15 columns):\n",
      " #   Column                Non-Null Count  Dtype  \n",
      "---  ------                --------------  -----  \n",
      " 0   Unnamed: 0            6497 non-null   int64  \n",
      " 1   fixed acidity         6497 non-null   float64\n",
      " 2   volatile acidity      6497 non-null   float64\n",
      " 3   citric acid           6497 non-null   float64\n",
      " 4   residual sugar        6497 non-null   float64\n",
      " 5   chlorides             6497 non-null   float64\n",
      " 6   free sulfur dioxide   6497 non-null   float64\n",
      " 7   total sulfur dioxide  6497 non-null   float64\n",
      " 8   density               6497 non-null   float64\n",
      " 9   pH                    6497 non-null   float64\n",
      " 10  sulphates             6497 non-null   float64\n",
      " 11  alcohol               6497 non-null   float64\n",
      " 12  quality               6497 non-null   int64  \n",
      " 13  color                 6497 non-null   object \n",
      " 14  high_quality          6497 non-null   int64  \n",
      "dtypes: float64(11), int64(3), object(1)\n",
      "memory usage: 761.5+ KB\n"
     ]
    }
   ],
   "source": [
    "data.info()"
   ]
  },
  {
   "cell_type": "markdown",
   "metadata": {},
   "source": [
    "Видно, что столбцы таблицы, соответствуют следующим признакам:\n",
    "- Unnamed - номер вина, нумерация производится с 0 и по возрастающей, причем для красных и белых вин ведётся независимо \n",
    "- fixed acidity - фиксированная кислотность\n",
    "- volatile acidity - летучая кислотность\n",
    "- citric acid - лимонная кислота\n",
    "- residual sugar - концентрация остаточного сахара\n",
    "- chlorides - концентрация хлоридов\n",
    "- free sulfur dioxide - концентрация свободного диоксида серы\n",
    "- total sulfur dioxide - общая концентрация диоксида серы\n",
    "- density - плотность\n",
    "- pH - мера определения кислотности водных растворов\n",
    "- sulphates - концентрация сульфатов\n",
    "- alcohol - концентрация алкоголя\n",
    "- quality - качество по шкале от 0 до 10\n",
    "- color - либо 'red', либо 'white'\n",
    "- high_quality - итоговая оценка качества, 0 - вино некачественное, 1 - качественное. Целевой признак, состоящий из 2х классов.\n",
    "\n",
    "Стоит отметить, что в начале таблицы рассполагается 1599 объектов, соответствующих красным винам, все последующие объекты - соответствуют белым. Зная этот факт, можно удалить признак 'Unnamed'. "
   ]
  },
  {
   "cell_type": "code",
   "execution_count": 6,
   "metadata": {},
   "outputs": [
    {
     "data": {
      "text/plain": [
       "0          0\n",
       "1          1\n",
       "2          2\n",
       "3          3\n",
       "4          4\n",
       "        ... \n",
       "6492    4893\n",
       "6493    4894\n",
       "6494    4895\n",
       "6495    4896\n",
       "6496    4897\n",
       "Name: Unnamed: 0, Length: 6497, dtype: int64"
      ]
     },
     "execution_count": 6,
     "metadata": {},
     "output_type": "execute_result"
    }
   ],
   "source": [
    "data.pop('Unnamed: 0')"
   ]
  },
  {
   "cell_type": "code",
   "execution_count": 7,
   "metadata": {},
   "outputs": [
    {
     "data": {
      "text/html": [
       "<div>\n",
       "<style scoped>\n",
       "    .dataframe tbody tr th:only-of-type {\n",
       "        vertical-align: middle;\n",
       "    }\n",
       "\n",
       "    .dataframe tbody tr th {\n",
       "        vertical-align: top;\n",
       "    }\n",
       "\n",
       "    .dataframe thead th {\n",
       "        text-align: right;\n",
       "    }\n",
       "</style>\n",
       "<table border=\"1\" class=\"dataframe\">\n",
       "  <thead>\n",
       "    <tr style=\"text-align: right;\">\n",
       "      <th></th>\n",
       "      <th>fixed acidity</th>\n",
       "      <th>volatile acidity</th>\n",
       "      <th>citric acid</th>\n",
       "      <th>residual sugar</th>\n",
       "      <th>chlorides</th>\n",
       "      <th>free sulfur dioxide</th>\n",
       "      <th>total sulfur dioxide</th>\n",
       "      <th>density</th>\n",
       "      <th>pH</th>\n",
       "      <th>sulphates</th>\n",
       "      <th>alcohol</th>\n",
       "      <th>quality</th>\n",
       "      <th>color</th>\n",
       "      <th>high_quality</th>\n",
       "    </tr>\n",
       "  </thead>\n",
       "  <tbody>\n",
       "    <tr>\n",
       "      <th>0</th>\n",
       "      <td>7.4</td>\n",
       "      <td>0.70</td>\n",
       "      <td>0.00</td>\n",
       "      <td>1.9</td>\n",
       "      <td>0.076</td>\n",
       "      <td>11.0</td>\n",
       "      <td>34.0</td>\n",
       "      <td>0.99780</td>\n",
       "      <td>3.51</td>\n",
       "      <td>0.56</td>\n",
       "      <td>9.4</td>\n",
       "      <td>5</td>\n",
       "      <td>red</td>\n",
       "      <td>0</td>\n",
       "    </tr>\n",
       "    <tr>\n",
       "      <th>1</th>\n",
       "      <td>7.8</td>\n",
       "      <td>0.88</td>\n",
       "      <td>0.00</td>\n",
       "      <td>2.6</td>\n",
       "      <td>0.098</td>\n",
       "      <td>25.0</td>\n",
       "      <td>67.0</td>\n",
       "      <td>0.99680</td>\n",
       "      <td>3.20</td>\n",
       "      <td>0.68</td>\n",
       "      <td>9.8</td>\n",
       "      <td>5</td>\n",
       "      <td>red</td>\n",
       "      <td>0</td>\n",
       "    </tr>\n",
       "    <tr>\n",
       "      <th>2</th>\n",
       "      <td>7.8</td>\n",
       "      <td>0.76</td>\n",
       "      <td>0.04</td>\n",
       "      <td>2.3</td>\n",
       "      <td>0.092</td>\n",
       "      <td>15.0</td>\n",
       "      <td>54.0</td>\n",
       "      <td>0.99700</td>\n",
       "      <td>3.26</td>\n",
       "      <td>0.65</td>\n",
       "      <td>9.8</td>\n",
       "      <td>5</td>\n",
       "      <td>red</td>\n",
       "      <td>0</td>\n",
       "    </tr>\n",
       "    <tr>\n",
       "      <th>3</th>\n",
       "      <td>11.2</td>\n",
       "      <td>0.28</td>\n",
       "      <td>0.56</td>\n",
       "      <td>1.9</td>\n",
       "      <td>0.075</td>\n",
       "      <td>17.0</td>\n",
       "      <td>60.0</td>\n",
       "      <td>0.99800</td>\n",
       "      <td>3.16</td>\n",
       "      <td>0.58</td>\n",
       "      <td>9.8</td>\n",
       "      <td>6</td>\n",
       "      <td>red</td>\n",
       "      <td>1</td>\n",
       "    </tr>\n",
       "    <tr>\n",
       "      <th>4</th>\n",
       "      <td>7.4</td>\n",
       "      <td>0.70</td>\n",
       "      <td>0.00</td>\n",
       "      <td>1.9</td>\n",
       "      <td>0.076</td>\n",
       "      <td>11.0</td>\n",
       "      <td>34.0</td>\n",
       "      <td>0.99780</td>\n",
       "      <td>3.51</td>\n",
       "      <td>0.56</td>\n",
       "      <td>9.4</td>\n",
       "      <td>5</td>\n",
       "      <td>red</td>\n",
       "      <td>0</td>\n",
       "    </tr>\n",
       "    <tr>\n",
       "      <th>...</th>\n",
       "      <td>...</td>\n",
       "      <td>...</td>\n",
       "      <td>...</td>\n",
       "      <td>...</td>\n",
       "      <td>...</td>\n",
       "      <td>...</td>\n",
       "      <td>...</td>\n",
       "      <td>...</td>\n",
       "      <td>...</td>\n",
       "      <td>...</td>\n",
       "      <td>...</td>\n",
       "      <td>...</td>\n",
       "      <td>...</td>\n",
       "      <td>...</td>\n",
       "    </tr>\n",
       "    <tr>\n",
       "      <th>6492</th>\n",
       "      <td>6.2</td>\n",
       "      <td>0.21</td>\n",
       "      <td>0.29</td>\n",
       "      <td>1.6</td>\n",
       "      <td>0.039</td>\n",
       "      <td>24.0</td>\n",
       "      <td>92.0</td>\n",
       "      <td>0.99114</td>\n",
       "      <td>3.27</td>\n",
       "      <td>0.50</td>\n",
       "      <td>11.2</td>\n",
       "      <td>6</td>\n",
       "      <td>white</td>\n",
       "      <td>1</td>\n",
       "    </tr>\n",
       "    <tr>\n",
       "      <th>6493</th>\n",
       "      <td>6.6</td>\n",
       "      <td>0.32</td>\n",
       "      <td>0.36</td>\n",
       "      <td>8.0</td>\n",
       "      <td>0.047</td>\n",
       "      <td>57.0</td>\n",
       "      <td>168.0</td>\n",
       "      <td>0.99490</td>\n",
       "      <td>3.15</td>\n",
       "      <td>0.46</td>\n",
       "      <td>9.6</td>\n",
       "      <td>5</td>\n",
       "      <td>white</td>\n",
       "      <td>0</td>\n",
       "    </tr>\n",
       "    <tr>\n",
       "      <th>6494</th>\n",
       "      <td>6.5</td>\n",
       "      <td>0.24</td>\n",
       "      <td>0.19</td>\n",
       "      <td>1.2</td>\n",
       "      <td>0.041</td>\n",
       "      <td>30.0</td>\n",
       "      <td>111.0</td>\n",
       "      <td>0.99254</td>\n",
       "      <td>2.99</td>\n",
       "      <td>0.46</td>\n",
       "      <td>9.4</td>\n",
       "      <td>6</td>\n",
       "      <td>white</td>\n",
       "      <td>1</td>\n",
       "    </tr>\n",
       "    <tr>\n",
       "      <th>6495</th>\n",
       "      <td>5.5</td>\n",
       "      <td>0.29</td>\n",
       "      <td>0.30</td>\n",
       "      <td>1.1</td>\n",
       "      <td>0.022</td>\n",
       "      <td>20.0</td>\n",
       "      <td>110.0</td>\n",
       "      <td>0.98869</td>\n",
       "      <td>3.34</td>\n",
       "      <td>0.38</td>\n",
       "      <td>12.8</td>\n",
       "      <td>7</td>\n",
       "      <td>white</td>\n",
       "      <td>1</td>\n",
       "    </tr>\n",
       "    <tr>\n",
       "      <th>6496</th>\n",
       "      <td>6.0</td>\n",
       "      <td>0.21</td>\n",
       "      <td>0.38</td>\n",
       "      <td>0.8</td>\n",
       "      <td>0.020</td>\n",
       "      <td>22.0</td>\n",
       "      <td>98.0</td>\n",
       "      <td>0.98941</td>\n",
       "      <td>3.26</td>\n",
       "      <td>0.32</td>\n",
       "      <td>11.8</td>\n",
       "      <td>6</td>\n",
       "      <td>white</td>\n",
       "      <td>1</td>\n",
       "    </tr>\n",
       "  </tbody>\n",
       "</table>\n",
       "<p>6497 rows × 14 columns</p>\n",
       "</div>"
      ],
      "text/plain": [
       "      fixed acidity  volatile acidity  citric acid  residual sugar  chlorides  \\\n",
       "0               7.4              0.70         0.00             1.9      0.076   \n",
       "1               7.8              0.88         0.00             2.6      0.098   \n",
       "2               7.8              0.76         0.04             2.3      0.092   \n",
       "3              11.2              0.28         0.56             1.9      0.075   \n",
       "4               7.4              0.70         0.00             1.9      0.076   \n",
       "...             ...               ...          ...             ...        ...   \n",
       "6492            6.2              0.21         0.29             1.6      0.039   \n",
       "6493            6.6              0.32         0.36             8.0      0.047   \n",
       "6494            6.5              0.24         0.19             1.2      0.041   \n",
       "6495            5.5              0.29         0.30             1.1      0.022   \n",
       "6496            6.0              0.21         0.38             0.8      0.020   \n",
       "\n",
       "      free sulfur dioxide  total sulfur dioxide  density    pH  sulphates  \\\n",
       "0                    11.0                  34.0  0.99780  3.51       0.56   \n",
       "1                    25.0                  67.0  0.99680  3.20       0.68   \n",
       "2                    15.0                  54.0  0.99700  3.26       0.65   \n",
       "3                    17.0                  60.0  0.99800  3.16       0.58   \n",
       "4                    11.0                  34.0  0.99780  3.51       0.56   \n",
       "...                   ...                   ...      ...   ...        ...   \n",
       "6492                 24.0                  92.0  0.99114  3.27       0.50   \n",
       "6493                 57.0                 168.0  0.99490  3.15       0.46   \n",
       "6494                 30.0                 111.0  0.99254  2.99       0.46   \n",
       "6495                 20.0                 110.0  0.98869  3.34       0.38   \n",
       "6496                 22.0                  98.0  0.98941  3.26       0.32   \n",
       "\n",
       "      alcohol  quality  color  high_quality  \n",
       "0         9.4        5    red             0  \n",
       "1         9.8        5    red             0  \n",
       "2         9.8        5    red             0  \n",
       "3         9.8        6    red             1  \n",
       "4         9.4        5    red             0  \n",
       "...       ...      ...    ...           ...  \n",
       "6492     11.2        6  white             1  \n",
       "6493      9.6        5  white             0  \n",
       "6494      9.4        6  white             1  \n",
       "6495     12.8        7  white             1  \n",
       "6496     11.8        6  white             1  \n",
       "\n",
       "[6497 rows x 14 columns]"
      ]
     },
     "execution_count": 7,
     "metadata": {},
     "output_type": "execute_result"
    }
   ],
   "source": [
    "data"
   ]
  },
  {
   "cell_type": "markdown",
   "metadata": {},
   "source": [
    "## Проверка числовых признаков на наличие выбросов\n",
    "\n",
    "Чтобы избавиться от выбросов, будем рассматривать числовые признаки, соответствующие значениям характеристик вина, которые могли быть неправильно измеряны приборами. Построим несколько диаграмм рассеивания."
   ]
  },
  {
   "cell_type": "code",
   "execution_count": 8,
   "metadata": {},
   "outputs": [
    {
     "data": {
      "image/png": "[encoded data removed]",
      "text/plain": [
       "<Figure size 432x288 with 1 Axes>"
      ]
     },
     "metadata": {
      "needs_background": "light"
     },
     "output_type": "display_data"
    }
   ],
   "source": [
    "plt.scatter(data['fixed acidity'], data['high_quality'], alpha=0.3)\n",
    "plt.xlabel('fixed acidity')\n",
    "plt.ylabel('high_quality')\n",
    "pass"
   ]
  },
  {
   "cell_type": "markdown",
   "metadata": {},
   "source": [
    "Видно, что в правой части диаграммы рассеивания 'high_quality'-'fixed acidity' есть несколько точек, соответствующих объектам выборки со значениями фиксированной кислотности, которые превышают значение основной массы. Найдем квантили признака 'fixed acidity'."
   ]
  },
  {
   "cell_type": "code",
   "execution_count": 9,
   "metadata": {},
   "outputs": [
    {
     "data": {
      "text/plain": [
       "0.000     3.800\n",
       "0.005     4.948\n",
       "0.010     5.100\n",
       "0.050     5.700\n",
       "0.100     6.000\n",
       "0.500     7.000\n",
       "0.900     8.800\n",
       "0.950     9.800\n",
       "0.990    12.000\n",
       "0.995    12.700\n",
       "1.000    15.900\n",
       "Name: fixed acidity, dtype: float64"
      ]
     },
     "execution_count": 9,
     "metadata": {},
     "output_type": "execute_result"
    }
   ],
   "source": [
    "data['fixed acidity'].quantile([0., 0.005,.01,.05,.1,.5,.9,.95,.99,.995, 1.])"
   ]
  },
  {
   "cell_type": "markdown",
   "metadata": {},
   "source": [
    "Видно, что  99%  всех значений признака 'fixed acidity' находится в диапазоне от  4.948  до  12.700 (это значения квантилей, соответствующих уровням  0.005  и  0.995  соответственно). Значит все объекты со значением признака, выходящнго из указанного диапазона необходимо удалить."
   ]
  },
  {
   "cell_type": "code",
   "execution_count": 10,
   "metadata": {},
   "outputs": [],
   "source": [
    "rows_before = data.shape\n",
    "rows_to_drop = data[\n",
    "    (data['fixed acidity'] < data['fixed acidity'].quantile(0.005)) | (data['fixed acidity'] > data['fixed acidity'].quantile(0.995))].index\n",
    "data = data.drop(rows_to_drop)\n",
    "rows_after = data.shape\n",
    "res = rows_before[0] - rows_after[0]"
   ]
  },
  {
   "cell_type": "markdown",
   "metadata": {},
   "source": [
    "Проделаем анналогичные действия поиска и устранения выбросов, относящихся к остальным числовым признакам."
   ]
  },
  {
   "cell_type": "code",
   "execution_count": 11,
   "metadata": {},
   "outputs": [
    {
     "data": {
      "image/png": "[encoded data removed]",
      "text/plain": [
       "<Figure size 432x288 with 1 Axes>"
      ]
     },
     "metadata": {
      "needs_background": "light"
     },
     "output_type": "display_data"
    }
   ],
   "source": [
    "plt.scatter(data['volatile acidity'], data['high_quality'], alpha=0.3)\n",
    "plt.xlabel('volatile acidity')\n",
    "plt.ylabel('high_quality')\n",
    "pass"
   ]
  },
  {
   "cell_type": "code",
   "execution_count": 12,
   "metadata": {},
   "outputs": [
    {
     "data": {
      "image/png": "[encoded data removed]",
      "text/plain": [
       "<Figure size 432x288 with 1 Axes>"
      ]
     },
     "metadata": {
      "needs_background": "light"
     },
     "output_type": "display_data"
    }
   ],
   "source": [
    "plt.scatter(data['citric acid'], data['high_quality'], alpha=0.3)\n",
    "plt.xlabel('citric acid')\n",
    "plt.ylabel('high_quality')\n",
    "pass"
   ]
  },
  {
   "cell_type": "code",
   "execution_count": 13,
   "metadata": {},
   "outputs": [
    {
     "data": {
      "image/png": "[encoded data removed]",
      "text/plain": [
       "<Figure size 432x288 with 1 Axes>"
      ]
     },
     "metadata": {
      "needs_background": "light"
     },
     "output_type": "display_data"
    }
   ],
   "source": [
    "plt.scatter(data['residual sugar'], data['high_quality'], alpha=0.3)\n",
    "plt.xlabel('residual sugar')\n",
    "plt.ylabel('high_quality')\n",
    "pass"
   ]
  },
  {
   "cell_type": "code",
   "execution_count": 14,
   "metadata": {},
   "outputs": [
    {
     "data": {
      "image/png": "[encoded data removed]",
      "text/plain": [
       "<Figure size 432x288 with 1 Axes>"
      ]
     },
     "metadata": {
      "needs_background": "light"
     },
     "output_type": "display_data"
    }
   ],
   "source": [
    "plt.scatter(data['chlorides'], data['high_quality'], alpha=0.3)\n",
    "plt.xlabel('chlorides')\n",
    "plt.ylabel('high_quality')\n",
    "pass"
   ]
  },
  {
   "cell_type": "code",
   "execution_count": 15,
   "metadata": {},
   "outputs": [
    {
     "data": {
      "image/png": "[encoded data removed]",
      "text/plain": [
       "<Figure size 432x288 with 1 Axes>"
      ]
     },
     "metadata": {
      "needs_background": "light"
     },
     "output_type": "display_data"
    }
   ],
   "source": [
    "plt.scatter(data['free sulfur dioxide'], data['high_quality'], alpha=0.3)\n",
    "plt.xlabel('free sulfur dioxide')\n",
    "plt.ylabel('high_quality')\n",
    "pass"
   ]
  },
  {
   "cell_type": "code",
   "execution_count": 16,
   "metadata": {},
   "outputs": [
    {
     "data": {
      "image/png": "[encoded data removed]",
      "text/plain": [
       "<Figure size 432x288 with 1 Axes>"
      ]
     },
     "metadata": {
      "needs_background": "light"
     },
     "output_type": "display_data"
    }
   ],
   "source": [
    "plt.scatter(data['total sulfur dioxide'], data['high_quality'], alpha=0.3)\n",
    "plt.xlabel('total sulfur dioxide')\n",
    "plt.ylabel('high_quality')\n",
    "pass"
   ]
  },
  {
   "cell_type": "code",
   "execution_count": 17,
   "metadata": {},
   "outputs": [
    {
     "data": {
      "image/png": "[encoded data removed]",
      "text/plain": [
       "<Figure size 432x288 with 1 Axes>"
      ]
     },
     "metadata": {
      "needs_background": "light"
     },
     "output_type": "display_data"
    }
   ],
   "source": [
    "plt.scatter(data['density'], data['high_quality'], alpha=0.3)\n",
    "plt.xlabel('density')\n",
    "plt.ylabel('high_quality')\n",
    "pass"
   ]
  },
  {
   "cell_type": "code",
   "execution_count": 18,
   "metadata": {},
   "outputs": [
    {
     "data": {
      "image/png": "[encoded data removed]",
      "text/plain": [
       "<Figure size 432x288 with 1 Axes>"
      ]
     },
     "metadata": {
      "needs_background": "light"
     },
     "output_type": "display_data"
    }
   ],
   "source": [
    "plt.scatter(data['pH'], data['high_quality'], alpha=0.3)\n",
    "plt.xlabel('pH')\n",
    "plt.ylabel('high_quality')\n",
    "pass"
   ]
  },
  {
   "cell_type": "code",
   "execution_count": 19,
   "metadata": {},
   "outputs": [
    {
     "data": {
      "image/png": "[encoded data removed]",
      "text/plain": [
       "<Figure size 432x288 with 1 Axes>"
      ]
     },
     "metadata": {
      "needs_background": "light"
     },
     "output_type": "display_data"
    }
   ],
   "source": [
    "plt.scatter(data['sulphates'], data['high_quality'], alpha=0.3)\n",
    "plt.xlabel('sulphates')\n",
    "plt.ylabel('high_quality')\n",
    "pass"
   ]
  },
  {
   "cell_type": "code",
   "execution_count": 20,
   "metadata": {},
   "outputs": [
    {
     "data": {
      "image/png": "[encoded data removed]",
      "text/plain": [
       "<Figure size 432x288 with 1 Axes>"
      ]
     },
     "metadata": {
      "needs_background": "light"
     },
     "output_type": "display_data"
    }
   ],
   "source": [
    "plt.scatter(data['alcohol'], data['high_quality'], alpha=0.3)\n",
    "plt.xlabel('alcohol')\n",
    "plt.ylabel('high_quality')\n",
    "pass"
   ]
  },
  {
   "cell_type": "markdown",
   "metadata": {},
   "source": [
    "Видно, что во всех правых частях диаграмм рассеивания содержатся точки, соответствующие объектам, которые являются выбросами, где значение признака сильно привышает значения большинства объектов. Значит все объекты со значением признака, выходящнго из указанного диапазона необходимо удалить."
   ]
  },
  {
   "cell_type": "code",
   "execution_count": 21,
   "metadata": {},
   "outputs": [
    {
     "data": {
      "text/plain": [
       "0.000    0.080\n",
       "0.005    0.115\n",
       "0.010    0.120\n",
       "0.050    0.160\n",
       "0.100    0.180\n",
       "0.500    0.290\n",
       "0.900    0.590\n",
       "0.950    0.670\n",
       "0.990    0.880\n",
       "0.995    0.965\n",
       "1.000    1.580\n",
       "Name: volatile acidity, dtype: float64"
      ]
     },
     "execution_count": 21,
     "metadata": {},
     "output_type": "execute_result"
    }
   ],
   "source": [
    "data['volatile acidity'].quantile([0., 0.005,.01,.05,.1,.5,.9,.95,.99,.995, 1.])"
   ]
  },
  {
   "cell_type": "markdown",
   "metadata": {},
   "source": [
    "99% всех значений признака 'volatile acidity' находится в диапазоне от 0.115 до 0.965 (это значения квантилей, соответствующих уровням 0.005 и 0.995 соответственно). "
   ]
  },
  {
   "cell_type": "code",
   "execution_count": 22,
   "metadata": {},
   "outputs": [
    {
     "data": {
      "text/plain": [
       "0.000    0.00\n",
       "0.005    0.00\n",
       "0.010    0.00\n",
       "0.050    0.05\n",
       "0.100    0.14\n",
       "0.500    0.31\n",
       "0.900    0.49\n",
       "0.950    0.56\n",
       "0.990    0.74\n",
       "0.995    0.74\n",
       "1.000    1.66\n",
       "Name: citric acid, dtype: float64"
      ]
     },
     "execution_count": 22,
     "metadata": {},
     "output_type": "execute_result"
    }
   ],
   "source": [
    "data['citric acid'].quantile([0., 0.005,.01,.05,.1,.5,.9,.95,.99,.995, 1.])"
   ]
  },
  {
   "cell_type": "markdown",
   "metadata": {},
   "source": [
    "99% всех значений признака 'citric acid' находится в диапазоне от 0.00 до 0.74 (это значения квантилей, соответствующих уровням 0.005 и 0.995 соответственно). "
   ]
  },
  {
   "cell_type": "code",
   "execution_count": 23,
   "metadata": {},
   "outputs": [
    {
     "data": {
      "text/plain": [
       "0.000     0.6\n",
       "0.005     0.8\n",
       "0.010     0.9\n",
       "0.050     1.2\n",
       "0.100     1.3\n",
       "0.500     3.0\n",
       "0.900    13.0\n",
       "0.950    15.1\n",
       "0.990    18.2\n",
       "0.995    19.4\n",
       "1.000    65.8\n",
       "Name: residual sugar, dtype: float64"
      ]
     },
     "execution_count": 23,
     "metadata": {},
     "output_type": "execute_result"
    }
   ],
   "source": [
    "data['residual sugar'].quantile([0., 0.005,.01,.05,.1,.5,.9,.95,.99,.995, 1.])"
   ]
  },
  {
   "cell_type": "markdown",
   "metadata": {},
   "source": [
    "99% всех значений признака 'residual sugar' находится в диапазоне от 0.8 до 19.4 (это значения квантилей, соответствующих уровням 0.005 и 0.995 соответственно). "
   ]
  },
  {
   "cell_type": "code",
   "execution_count": 24,
   "metadata": {},
   "outputs": [
    {
     "data": {
      "text/plain": [
       "0.000    0.00900\n",
       "0.005    0.01900\n",
       "0.010    0.02100\n",
       "0.050    0.02800\n",
       "0.100    0.03100\n",
       "0.500    0.04700\n",
       "0.900    0.08600\n",
       "0.950    0.10200\n",
       "0.990    0.18872\n",
       "0.995    0.24268\n",
       "1.000    0.61100\n",
       "Name: chlorides, dtype: float64"
      ]
     },
     "execution_count": 24,
     "metadata": {},
     "output_type": "execute_result"
    }
   ],
   "source": [
    "data['chlorides'].quantile([0., 0.005,.01,.05,.1,.5,.9,.95,.99,.995, 1.])"
   ]
  },
  {
   "cell_type": "markdown",
   "metadata": {},
   "source": [
    "99% всех значений признака 'chlorides' находится в диапазоне от 0.019 до 0.24268 (это значения квантилей, соответствующих уровням 0.005 и 0.995 соответственно). "
   ]
  },
  {
   "cell_type": "code",
   "execution_count": 25,
   "metadata": {},
   "outputs": [
    {
     "data": {
      "text/plain": [
       "0.000      1.00\n",
       "0.005      3.00\n",
       "0.010      4.00\n",
       "0.050      6.00\n",
       "0.100      9.00\n",
       "0.500     29.00\n",
       "0.900     54.00\n",
       "0.950     61.00\n",
       "0.990     76.68\n",
       "0.995     85.00\n",
       "1.000    289.00\n",
       "Name: free sulfur dioxide, dtype: float64"
      ]
     },
     "execution_count": 25,
     "metadata": {},
     "output_type": "execute_result"
    }
   ],
   "source": [
    "data['free sulfur dioxide'].quantile([0., 0.005,.01,.05,.1,.5,.9,.95,.99,.995, 1.])"
   ]
  },
  {
   "cell_type": "markdown",
   "metadata": {},
   "source": [
    "99% всех значений признака 'free sulfur dioxide' находится в диапазоне от 3.0 до 85.0 (это значения квантилей, соответствующих уровням 0.005 и 0.995 соответственно). "
   ]
  },
  {
   "cell_type": "code",
   "execution_count": 26,
   "metadata": {},
   "outputs": [
    {
     "data": {
      "text/plain": [
       "0.000      6.0\n",
       "0.005      9.0\n",
       "0.010     11.0\n",
       "0.050     19.0\n",
       "0.100     30.0\n",
       "0.500    118.0\n",
       "0.900    188.0\n",
       "0.950    206.0\n",
       "0.990    238.0\n",
       "0.995    247.0\n",
       "1.000    440.0\n",
       "Name: total sulfur dioxide, dtype: float64"
      ]
     },
     "execution_count": 26,
     "metadata": {},
     "output_type": "execute_result"
    }
   ],
   "source": [
    "data['total sulfur dioxide'].quantile([0., 0.005,.01,.05,.1,.5,.9,.95,.99,.995, 1.])"
   ]
  },
  {
   "cell_type": "markdown",
   "metadata": {},
   "source": [
    "99% всех значений признака 'total sulfur dioxide' находится в диапазоне от 9.0 до 247.0 (это значения квантилей, соответствующих уровням 0.005 и 0.995 соответственно). "
   ]
  },
  {
   "cell_type": "code",
   "execution_count": 27,
   "metadata": {},
   "outputs": [
    {
     "data": {
      "text/plain": [
       "0.000    0.987110\n",
       "0.005    0.988653\n",
       "0.010    0.988926\n",
       "0.050    0.989930\n",
       "0.100    0.990700\n",
       "0.500    0.994890\n",
       "0.900    0.998400\n",
       "0.950    0.999220\n",
       "0.990    1.000400\n",
       "0.995    1.001000\n",
       "1.000    1.038980\n",
       "Name: density, dtype: float64"
      ]
     },
     "execution_count": 27,
     "metadata": {},
     "output_type": "execute_result"
    }
   ],
   "source": [
    "data['density'].quantile([0., 0.005,.01,.05,.1,.5,.9,.95,.99,.995, 1.])"
   ]
  },
  {
   "cell_type": "markdown",
   "metadata": {},
   "source": [
    "99% всех значений признака 'density' находится в диапазоне от 0.988653 до 1.001 (это значения квантилей, соответствующих уровням 0.005 и 0.995 соответственно). "
   ]
  },
  {
   "cell_type": "code",
   "execution_count": 28,
   "metadata": {},
   "outputs": [
    {
     "data": {
      "text/plain": [
       "0.000    2.72\n",
       "0.005    2.86\n",
       "0.010    2.89\n",
       "0.050    2.97\n",
       "0.100    3.02\n",
       "0.500    3.21\n",
       "0.900    3.42\n",
       "0.950    3.50\n",
       "0.990    3.63\n",
       "0.995    3.69\n",
       "1.000    4.01\n",
       "Name: pH, dtype: float64"
      ]
     },
     "execution_count": 28,
     "metadata": {},
     "output_type": "execute_result"
    }
   ],
   "source": [
    "data['pH'].quantile([0., 0.005,.01,.05,.1,.5,.9,.95,.99,.995, 1.])"
   ]
  },
  {
   "cell_type": "markdown",
   "metadata": {},
   "source": [
    "99% всех значений признака 'pH' находится в диапазоне от 2.86 до 3.69 (это значения квантилей, соответствующих уровням 0.005 и 0.995 соответственно). "
   ]
  },
  {
   "cell_type": "code",
   "execution_count": 29,
   "metadata": {},
   "outputs": [
    {
     "data": {
      "text/plain": [
       "0.000    0.2200\n",
       "0.005    0.2800\n",
       "0.010    0.3000\n",
       "0.050    0.3500\n",
       "0.100    0.3800\n",
       "0.500    0.5100\n",
       "0.900    0.7200\n",
       "0.950    0.7900\n",
       "0.990    0.9900\n",
       "0.995    1.1284\n",
       "1.000    2.0000\n",
       "Name: sulphates, dtype: float64"
      ]
     },
     "execution_count": 29,
     "metadata": {},
     "output_type": "execute_result"
    }
   ],
   "source": [
    "data['sulphates'].quantile([0., 0.005,.01,.05,.1,.5,.9,.95,.99,.995, 1.])"
   ]
  },
  {
   "cell_type": "markdown",
   "metadata": {},
   "source": [
    "99% всех значений признака 'sulphates' находится в диапазоне от 0.28 до 1.1284 (это значения квантилей, соответствующих уровням 0.005 и 0.995 соответственно). "
   ]
  },
  {
   "cell_type": "code",
   "execution_count": 30,
   "metadata": {},
   "outputs": [
    {
     "data": {
      "text/plain": [
       "0.000     8.4\n",
       "0.005     8.6\n",
       "0.010     8.7\n",
       "0.050     9.0\n",
       "0.100     9.1\n",
       "0.500    10.3\n",
       "0.900    12.3\n",
       "0.950    12.7\n",
       "0.990    13.4\n",
       "0.995    13.6\n",
       "1.000    14.2\n",
       "Name: alcohol, dtype: float64"
      ]
     },
     "execution_count": 30,
     "metadata": {},
     "output_type": "execute_result"
    }
   ],
   "source": [
    "data['alcohol'].quantile([0., 0.005,.01,.05,.1,.5,.9,.95,.99,.995, 1.])"
   ]
  },
  {
   "cell_type": "markdown",
   "metadata": {},
   "source": [
    "99% всех значений признака 'alcohol' находится в диапазоне от 8.6 до 13.6 (это значения квантилей, соответствующих уровням 0.005 и 0.995 соответственно). "
   ]
  },
  {
   "cell_type": "markdown",
   "metadata": {},
   "source": [
    "Удалим все строки, соответствующие выбросам."
   ]
  },
  {
   "cell_type": "code",
   "execution_count": 31,
   "metadata": {},
   "outputs": [
    {
     "name": "stdout",
     "output_type": "stream",
     "text": [
      "Количество удалённых объектов (строк):  515\n"
     ]
    }
   ],
   "source": [
    "rows_before = data.shape\n",
    "rows_to_drop = data[\n",
    "    (data['volatile acidity']  < data['volatile acidity' ].quantile(0.005)) | (data['volatile acidity']  > data['volatile acidity' ].quantile(0.995)) |\n",
    "    (data['citric acid'] < data['citric acid'].quantile(0.005)) | (data['citric acid'] > data['citric acid'].quantile(0.995)) |\n",
    "    (data['residual sugar'] < data['residual sugar'].quantile(0.005)) | (data['residual sugar'] > data['residual sugar'].quantile(0.995)) |\n",
    "    (data['chlorides'] < data['chlorides'].quantile(0.005)) | (data['chlorides'] > data['chlorides'].quantile(0.995)) |\n",
    "    (data['free sulfur dioxide'] < data['free sulfur dioxide'].quantile(0.005)) | (data['free sulfur dioxide'] > data['free sulfur dioxide'].quantile(0.995)) |\n",
    "    (data['total sulfur dioxide'] < data['total sulfur dioxide'].quantile(0.005)) | (data['total sulfur dioxide'] > data['total sulfur dioxide'].quantile(0.995)) |\n",
    "    (data['density'] < data['density'].quantile(0.005)) | (data['density'] > data['density'].quantile(0.995)) |\n",
    "    (data['pH'] < data['pH'].quantile(0.005)) | (data['pH'] > data['pH'].quantile(0.995)) |\n",
    "    (data['sulphates'] < data['sulphates'].quantile(0.005)) | (data['sulphates'] > data['sulphates'].quantile(0.995)) |\n",
    "    (data['alcohol'] < data['alcohol'].quantile(0.005)) | (data['alcohol'] > data['alcohol'].quantile(0.995)) |\n",
    "    (data['quality'] < data['quality'].quantile(0.005)) | (data['density'] > data['density'].quantile(0.995)) |\n",
    "    (data['density'] < data['density'].quantile(0.005)) | (data['density'] > data['density'].quantile(0.995))].index\n",
    "data = data.drop(rows_to_drop)\n",
    "\n",
    "rows_after = data.shape\n",
    "res = res + rows_before[0] - rows_after[0]\n",
    "print('Количество удалённых объектов (строк): ', res)"
   ]
  },
  {
   "cell_type": "markdown",
   "metadata": {},
   "source": [
    "## Визуализация данных и основные статистические характеристики\n",
    "\n",
    "Описательная статистика данных"
   ]
  },
  {
   "cell_type": "code",
   "execution_count": 32,
   "metadata": {},
   "outputs": [
    {
     "data": {
      "text/html": [
       "<div>\n",
       "<style scoped>\n",
       "    .dataframe tbody tr th:only-of-type {\n",
       "        vertical-align: middle;\n",
       "    }\n",
       "\n",
       "    .dataframe tbody tr th {\n",
       "        vertical-align: top;\n",
       "    }\n",
       "\n",
       "    .dataframe thead th {\n",
       "        text-align: right;\n",
       "    }\n",
       "</style>\n",
       "<table border=\"1\" class=\"dataframe\">\n",
       "  <thead>\n",
       "    <tr style=\"text-align: right;\">\n",
       "      <th></th>\n",
       "      <th>fixed acidity</th>\n",
       "      <th>volatile acidity</th>\n",
       "      <th>citric acid</th>\n",
       "      <th>residual sugar</th>\n",
       "      <th>chlorides</th>\n",
       "      <th>free sulfur dioxide</th>\n",
       "      <th>total sulfur dioxide</th>\n",
       "      <th>density</th>\n",
       "      <th>pH</th>\n",
       "      <th>sulphates</th>\n",
       "      <th>alcohol</th>\n",
       "      <th>quality</th>\n",
       "      <th>high_quality</th>\n",
       "    </tr>\n",
       "  </thead>\n",
       "  <tbody>\n",
       "    <tr>\n",
       "      <th>count</th>\n",
       "      <td>5982.000000</td>\n",
       "      <td>5982.000000</td>\n",
       "      <td>5982.000000</td>\n",
       "      <td>5982.000000</td>\n",
       "      <td>5982.000000</td>\n",
       "      <td>5982.000000</td>\n",
       "      <td>5982.000000</td>\n",
       "      <td>5982.000000</td>\n",
       "      <td>5982.000000</td>\n",
       "      <td>5982.000000</td>\n",
       "      <td>5982.000000</td>\n",
       "      <td>5982.000000</td>\n",
       "      <td>5982.000000</td>\n",
       "    </tr>\n",
       "    <tr>\n",
       "      <th>mean</th>\n",
       "      <td>7.191148</td>\n",
       "      <td>0.335649</td>\n",
       "      <td>0.315458</td>\n",
       "      <td>5.412538</td>\n",
       "      <td>0.054339</td>\n",
       "      <td>30.367937</td>\n",
       "      <td>116.116934</td>\n",
       "      <td>0.994670</td>\n",
       "      <td>3.218980</td>\n",
       "      <td>0.527156</td>\n",
       "      <td>10.466725</td>\n",
       "      <td>5.829321</td>\n",
       "      <td>0.635741</td>\n",
       "    </tr>\n",
       "    <tr>\n",
       "      <th>std</th>\n",
       "      <td>1.182138</td>\n",
       "      <td>0.155746</td>\n",
       "      <td>0.137757</td>\n",
       "      <td>4.580418</td>\n",
       "      <td>0.025683</td>\n",
       "      <td>16.517017</td>\n",
       "      <td>55.041061</td>\n",
       "      <td>0.002826</td>\n",
       "      <td>0.152737</td>\n",
       "      <td>0.132736</td>\n",
       "      <td>1.151248</td>\n",
       "      <td>0.847386</td>\n",
       "      <td>0.481262</td>\n",
       "    </tr>\n",
       "    <tr>\n",
       "      <th>min</th>\n",
       "      <td>5.000000</td>\n",
       "      <td>0.115000</td>\n",
       "      <td>0.000000</td>\n",
       "      <td>0.800000</td>\n",
       "      <td>0.019000</td>\n",
       "      <td>3.000000</td>\n",
       "      <td>9.000000</td>\n",
       "      <td>0.988670</td>\n",
       "      <td>2.860000</td>\n",
       "      <td>0.280000</td>\n",
       "      <td>8.600000</td>\n",
       "      <td>4.000000</td>\n",
       "      <td>0.000000</td>\n",
       "    </tr>\n",
       "    <tr>\n",
       "      <th>25%</th>\n",
       "      <td>6.400000</td>\n",
       "      <td>0.230000</td>\n",
       "      <td>0.250000</td>\n",
       "      <td>1.800000</td>\n",
       "      <td>0.038000</td>\n",
       "      <td>17.000000</td>\n",
       "      <td>80.000000</td>\n",
       "      <td>0.992393</td>\n",
       "      <td>3.110000</td>\n",
       "      <td>0.430000</td>\n",
       "      <td>9.500000</td>\n",
       "      <td>5.000000</td>\n",
       "      <td>0.000000</td>\n",
       "    </tr>\n",
       "    <tr>\n",
       "      <th>50%</th>\n",
       "      <td>7.000000</td>\n",
       "      <td>0.290000</td>\n",
       "      <td>0.310000</td>\n",
       "      <td>3.000000</td>\n",
       "      <td>0.047000</td>\n",
       "      <td>29.000000</td>\n",
       "      <td>119.000000</td>\n",
       "      <td>0.994900</td>\n",
       "      <td>3.210000</td>\n",
       "      <td>0.510000</td>\n",
       "      <td>10.300000</td>\n",
       "      <td>6.000000</td>\n",
       "      <td>1.000000</td>\n",
       "    </tr>\n",
       "    <tr>\n",
       "      <th>75%</th>\n",
       "      <td>7.600000</td>\n",
       "      <td>0.400000</td>\n",
       "      <td>0.390000</td>\n",
       "      <td>8.100000</td>\n",
       "      <td>0.064000</td>\n",
       "      <td>41.000000</td>\n",
       "      <td>156.000000</td>\n",
       "      <td>0.996900</td>\n",
       "      <td>3.320000</td>\n",
       "      <td>0.600000</td>\n",
       "      <td>11.300000</td>\n",
       "      <td>6.000000</td>\n",
       "      <td>1.000000</td>\n",
       "    </tr>\n",
       "    <tr>\n",
       "      <th>max</th>\n",
       "      <td>12.700000</td>\n",
       "      <td>0.965000</td>\n",
       "      <td>0.740000</td>\n",
       "      <td>19.400000</td>\n",
       "      <td>0.241000</td>\n",
       "      <td>85.000000</td>\n",
       "      <td>247.000000</td>\n",
       "      <td>1.001000</td>\n",
       "      <td>3.690000</td>\n",
       "      <td>1.120000</td>\n",
       "      <td>13.600000</td>\n",
       "      <td>9.000000</td>\n",
       "      <td>1.000000</td>\n",
       "    </tr>\n",
       "  </tbody>\n",
       "</table>\n",
       "</div>"
      ],
      "text/plain": [
       "       fixed acidity  volatile acidity  citric acid  residual sugar  \\\n",
       "count    5982.000000       5982.000000  5982.000000     5982.000000   \n",
       "mean        7.191148          0.335649     0.315458        5.412538   \n",
       "std         1.182138          0.155746     0.137757        4.580418   \n",
       "min         5.000000          0.115000     0.000000        0.800000   \n",
       "25%         6.400000          0.230000     0.250000        1.800000   \n",
       "50%         7.000000          0.290000     0.310000        3.000000   \n",
       "75%         7.600000          0.400000     0.390000        8.100000   \n",
       "max        12.700000          0.965000     0.740000       19.400000   \n",
       "\n",
       "         chlorides  free sulfur dioxide  total sulfur dioxide      density  \\\n",
       "count  5982.000000          5982.000000           5982.000000  5982.000000   \n",
       "mean      0.054339            30.367937            116.116934     0.994670   \n",
       "std       0.025683            16.517017             55.041061     0.002826   \n",
       "min       0.019000             3.000000              9.000000     0.988670   \n",
       "25%       0.038000            17.000000             80.000000     0.992393   \n",
       "50%       0.047000            29.000000            119.000000     0.994900   \n",
       "75%       0.064000            41.000000            156.000000     0.996900   \n",
       "max       0.241000            85.000000            247.000000     1.001000   \n",
       "\n",
       "                pH    sulphates      alcohol      quality  high_quality  \n",
       "count  5982.000000  5982.000000  5982.000000  5982.000000   5982.000000  \n",
       "mean      3.218980     0.527156    10.466725     5.829321      0.635741  \n",
       "std       0.152737     0.132736     1.151248     0.847386      0.481262  \n",
       "min       2.860000     0.280000     8.600000     4.000000      0.000000  \n",
       "25%       3.110000     0.430000     9.500000     5.000000      0.000000  \n",
       "50%       3.210000     0.510000    10.300000     6.000000      1.000000  \n",
       "75%       3.320000     0.600000    11.300000     6.000000      1.000000  \n",
       "max       3.690000     1.120000    13.600000     9.000000      1.000000  "
      ]
     },
     "execution_count": 32,
     "metadata": {},
     "output_type": "execute_result"
    }
   ],
   "source": [
    "data.describe()"
   ]
  },
  {
   "cell_type": "markdown",
   "metadata": {},
   "source": [
    "- count - количество значений для каждого признака\n",
    "- mean - среднее значение\n",
    "- std - стандартное отклонение\n",
    "- min - минимальное значение\n",
    "- 25% - первый квартиль\n",
    "- 50% - медиана\n",
    "- 75% - третий квартиль\n",
    "- max - максимальное значение"
   ]
  },
  {
   "cell_type": "markdown",
   "metadata": {},
   "source": [
    "В датасете содержится номинальный признак 'color'. Узнаем, сколько раз он принимает каждое из своих возможных значений."
   ]
  },
  {
   "cell_type": "code",
   "execution_count": 33,
   "metadata": {},
   "outputs": [
    {
     "data": {
      "text/plain": [
       "white    4553\n",
       "red      1429\n",
       "Name: color, dtype: int64"
      ]
     },
     "execution_count": 33,
     "metadata": {},
     "output_type": "execute_result"
    }
   ],
   "source": [
    "data['color'] = data['color'].astype('category')\n",
    "data['color'].value_counts() "
   ]
  },
  {
   "cell_type": "code",
   "execution_count": 34,
   "metadata": {},
   "outputs": [
    {
     "data": {
      "image/png": "[encoded data removed]",
      "text/plain": [
       "<Figure size 432x288 with 1 Axes>"
      ]
     },
     "metadata": {
      "needs_background": "light"
     },
     "output_type": "display_data"
    }
   ],
   "source": [
    "sns.countplot(x='color', data=data)\n",
    "pass"
   ]
  },
  {
   "cell_type": "markdown",
   "metadata": {},
   "source": [
    "Также полезно визуализировать соотношение классов."
   ]
  },
  {
   "cell_type": "code",
   "execution_count": 35,
   "metadata": {},
   "outputs": [
    {
     "data": {
      "text/plain": [
       "1    3803\n",
       "0    2179\n",
       "Name: high_quality, dtype: int64"
      ]
     },
     "execution_count": 35,
     "metadata": {},
     "output_type": "execute_result"
    }
   ],
   "source": [
    "data['high_quality'].value_counts() "
   ]
  },
  {
   "cell_type": "code",
   "execution_count": 36,
   "metadata": {},
   "outputs": [
    {
     "name": "stdout",
     "output_type": "stream",
     "text": [
      "Класс \"качественные вина\" 63.57405549983283 %\n",
      "Класс \"некачественные вина\" 36.42594450016717 %\n"
     ]
    }
   ],
   "source": [
    "inf = data['high_quality'].value_counts()\n",
    "size = data.shape\n",
    "print('Класс \"качественные вина\"',inf[1] * 100 / size[0] , '%')\n",
    "print('Класс \"некачественные вина\"',inf[0] * 100 / size[0] , '%')"
   ]
  },
  {
   "cell_type": "code",
   "execution_count": 37,
   "metadata": {},
   "outputs": [
    {
     "data": {
      "image/png": "[encoded data removed]",
      "text/plain": [
       "<Figure size 432x288 with 1 Axes>"
      ]
     },
     "metadata": {
      "needs_background": "light"
     },
     "output_type": "display_data"
    }
   ],
   "source": [
    "sns.countplot(x='high_quality', data=data)\n",
    "pass"
   ]
  },
  {
   "cell_type": "markdown",
   "metadata": {},
   "source": [
    "Матрица корреляции:"
   ]
  },
  {
   "cell_type": "code",
   "execution_count": 38,
   "metadata": {},
   "outputs": [
    {
     "data": {
      "text/html": [
       "<div>\n",
       "<style scoped>\n",
       "    .dataframe tbody tr th:only-of-type {\n",
       "        vertical-align: middle;\n",
       "    }\n",
       "\n",
       "    .dataframe tbody tr th {\n",
       "        vertical-align: top;\n",
       "    }\n",
       "\n",
       "    .dataframe thead th {\n",
       "        text-align: right;\n",
       "    }\n",
       "</style>\n",
       "<table border=\"1\" class=\"dataframe\">\n",
       "  <thead>\n",
       "    <tr style=\"text-align: right;\">\n",
       "      <th></th>\n",
       "      <th>fixed acidity</th>\n",
       "      <th>volatile acidity</th>\n",
       "      <th>citric acid</th>\n",
       "      <th>residual sugar</th>\n",
       "      <th>chlorides</th>\n",
       "      <th>free sulfur dioxide</th>\n",
       "      <th>total sulfur dioxide</th>\n",
       "      <th>density</th>\n",
       "      <th>pH</th>\n",
       "      <th>sulphates</th>\n",
       "      <th>alcohol</th>\n",
       "      <th>quality</th>\n",
       "      <th>high_quality</th>\n",
       "    </tr>\n",
       "  </thead>\n",
       "  <tbody>\n",
       "    <tr>\n",
       "      <th>fixed acidity</th>\n",
       "      <td>1.000000</td>\n",
       "      <td>0.230642</td>\n",
       "      <td>0.291711</td>\n",
       "      <td>-0.135512</td>\n",
       "      <td>0.342847</td>\n",
       "      <td>-0.287958</td>\n",
       "      <td>-0.336167</td>\n",
       "      <td>0.437593</td>\n",
       "      <td>-0.210263</td>\n",
       "      <td>0.298460</td>\n",
       "      <td>-0.067313</td>\n",
       "      <td>-0.066978</td>\n",
       "      <td>-0.065415</td>\n",
       "    </tr>\n",
       "    <tr>\n",
       "      <th>volatile acidity</th>\n",
       "      <td>0.230642</td>\n",
       "      <td>1.000000</td>\n",
       "      <td>-0.416448</td>\n",
       "      <td>-0.214656</td>\n",
       "      <td>0.447679</td>\n",
       "      <td>-0.366652</td>\n",
       "      <td>-0.430995</td>\n",
       "      <td>0.281349</td>\n",
       "      <td>0.277885</td>\n",
       "      <td>0.225330</td>\n",
       "      <td>-0.052219</td>\n",
       "      <td>-0.257283</td>\n",
       "      <td>-0.266293</td>\n",
       "    </tr>\n",
       "    <tr>\n",
       "      <th>citric acid</th>\n",
       "      <td>0.291711</td>\n",
       "      <td>-0.416448</td>\n",
       "      <td>1.000000</td>\n",
       "      <td>0.139406</td>\n",
       "      <td>-0.068775</td>\n",
       "      <td>0.165612</td>\n",
       "      <td>0.220949</td>\n",
       "      <td>0.054520</td>\n",
       "      <td>-0.313258</td>\n",
       "      <td>0.026770</td>\n",
       "      <td>0.013580</td>\n",
       "      <td>0.094664</td>\n",
       "      <td>0.079776</td>\n",
       "    </tr>\n",
       "    <tr>\n",
       "      <th>residual sugar</th>\n",
       "      <td>-0.135512</td>\n",
       "      <td>-0.214656</td>\n",
       "      <td>0.139406</td>\n",
       "      <td>1.000000</td>\n",
       "      <td>-0.158693</td>\n",
       "      <td>0.442292</td>\n",
       "      <td>0.507585</td>\n",
       "      <td>0.537770</td>\n",
       "      <td>-0.275650</td>\n",
       "      <td>-0.192490</td>\n",
       "      <td>-0.373406</td>\n",
       "      <td>-0.034939</td>\n",
       "      <td>-0.035556</td>\n",
       "    </tr>\n",
       "    <tr>\n",
       "      <th>chlorides</th>\n",
       "      <td>0.342847</td>\n",
       "      <td>0.447679</td>\n",
       "      <td>-0.068775</td>\n",
       "      <td>-0.158693</td>\n",
       "      <td>1.000000</td>\n",
       "      <td>-0.230688</td>\n",
       "      <td>-0.334605</td>\n",
       "      <td>0.435942</td>\n",
       "      <td>0.135843</td>\n",
       "      <td>0.298693</td>\n",
       "      <td>-0.284816</td>\n",
       "      <td>-0.220808</td>\n",
       "      <td>-0.198674</td>\n",
       "    </tr>\n",
       "    <tr>\n",
       "      <th>free sulfur dioxide</th>\n",
       "      <td>-0.287958</td>\n",
       "      <td>-0.366652</td>\n",
       "      <td>0.165612</td>\n",
       "      <td>0.442292</td>\n",
       "      <td>-0.230688</td>\n",
       "      <td>1.000000</td>\n",
       "      <td>0.725992</td>\n",
       "      <td>0.045244</td>\n",
       "      <td>-0.169330</td>\n",
       "      <td>-0.192407</td>\n",
       "      <td>-0.187563</td>\n",
       "      <td>0.072984</td>\n",
       "      <td>0.058594</td>\n",
       "    </tr>\n",
       "    <tr>\n",
       "      <th>total sulfur dioxide</th>\n",
       "      <td>-0.336167</td>\n",
       "      <td>-0.430995</td>\n",
       "      <td>0.220949</td>\n",
       "      <td>0.507585</td>\n",
       "      <td>-0.334605</td>\n",
       "      <td>0.725992</td>\n",
       "      <td>1.000000</td>\n",
       "      <td>0.030427</td>\n",
       "      <td>-0.261319</td>\n",
       "      <td>-0.297733</td>\n",
       "      <td>-0.271501</td>\n",
       "      <td>-0.039442</td>\n",
       "      <td>-0.044462</td>\n",
       "    </tr>\n",
       "    <tr>\n",
       "      <th>density</th>\n",
       "      <td>0.437593</td>\n",
       "      <td>0.281349</td>\n",
       "      <td>0.054520</td>\n",
       "      <td>0.537770</td>\n",
       "      <td>0.435942</td>\n",
       "      <td>0.045244</td>\n",
       "      <td>0.030427</td>\n",
       "      <td>1.000000</td>\n",
       "      <td>0.049386</td>\n",
       "      <td>0.255918</td>\n",
       "      <td>-0.706994</td>\n",
       "      <td>-0.311743</td>\n",
       "      <td>-0.278895</td>\n",
       "    </tr>\n",
       "    <tr>\n",
       "      <th>pH</th>\n",
       "      <td>-0.210263</td>\n",
       "      <td>0.277885</td>\n",
       "      <td>-0.313258</td>\n",
       "      <td>-0.275650</td>\n",
       "      <td>0.135843</td>\n",
       "      <td>-0.169330</td>\n",
       "      <td>-0.261319</td>\n",
       "      <td>0.049386</td>\n",
       "      <td>1.000000</td>\n",
       "      <td>0.256497</td>\n",
       "      <td>0.094865</td>\n",
       "      <td>0.012310</td>\n",
       "      <td>0.008389</td>\n",
       "    </tr>\n",
       "    <tr>\n",
       "      <th>sulphates</th>\n",
       "      <td>0.298460</td>\n",
       "      <td>0.225330</td>\n",
       "      <td>0.026770</td>\n",
       "      <td>-0.192490</td>\n",
       "      <td>0.298693</td>\n",
       "      <td>-0.192407</td>\n",
       "      <td>-0.297733</td>\n",
       "      <td>0.255918</td>\n",
       "      <td>0.256497</td>\n",
       "      <td>1.000000</td>\n",
       "      <td>0.026635</td>\n",
       "      <td>0.055411</td>\n",
       "      <td>0.055471</td>\n",
       "    </tr>\n",
       "    <tr>\n",
       "      <th>alcohol</th>\n",
       "      <td>-0.067313</td>\n",
       "      <td>-0.052219</td>\n",
       "      <td>0.013580</td>\n",
       "      <td>-0.373406</td>\n",
       "      <td>-0.284816</td>\n",
       "      <td>-0.187563</td>\n",
       "      <td>-0.271501</td>\n",
       "      <td>-0.706994</td>\n",
       "      <td>0.094865</td>\n",
       "      <td>0.026635</td>\n",
       "      <td>1.000000</td>\n",
       "      <td>0.449971</td>\n",
       "      <td>0.397052</td>\n",
       "    </tr>\n",
       "    <tr>\n",
       "      <th>quality</th>\n",
       "      <td>-0.066978</td>\n",
       "      <td>-0.257283</td>\n",
       "      <td>0.094664</td>\n",
       "      <td>-0.034939</td>\n",
       "      <td>-0.220808</td>\n",
       "      <td>0.072984</td>\n",
       "      <td>-0.039442</td>\n",
       "      <td>-0.311743</td>\n",
       "      <td>0.012310</td>\n",
       "      <td>0.055411</td>\n",
       "      <td>0.449971</td>\n",
       "      <td>1.000000</td>\n",
       "      <td>0.818768</td>\n",
       "    </tr>\n",
       "    <tr>\n",
       "      <th>high_quality</th>\n",
       "      <td>-0.065415</td>\n",
       "      <td>-0.266293</td>\n",
       "      <td>0.079776</td>\n",
       "      <td>-0.035556</td>\n",
       "      <td>-0.198674</td>\n",
       "      <td>0.058594</td>\n",
       "      <td>-0.044462</td>\n",
       "      <td>-0.278895</td>\n",
       "      <td>0.008389</td>\n",
       "      <td>0.055471</td>\n",
       "      <td>0.397052</td>\n",
       "      <td>0.818768</td>\n",
       "      <td>1.000000</td>\n",
       "    </tr>\n",
       "  </tbody>\n",
       "</table>\n",
       "</div>"
      ],
      "text/plain": [
       "                      fixed acidity  volatile acidity  citric acid  \\\n",
       "fixed acidity              1.000000          0.230642     0.291711   \n",
       "volatile acidity           0.230642          1.000000    -0.416448   \n",
       "citric acid                0.291711         -0.416448     1.000000   \n",
       "residual sugar            -0.135512         -0.214656     0.139406   \n",
       "chlorides                  0.342847          0.447679    -0.068775   \n",
       "free sulfur dioxide       -0.287958         -0.366652     0.165612   \n",
       "total sulfur dioxide      -0.336167         -0.430995     0.220949   \n",
       "density                    0.437593          0.281349     0.054520   \n",
       "pH                        -0.210263          0.277885    -0.313258   \n",
       "sulphates                  0.298460          0.225330     0.026770   \n",
       "alcohol                   -0.067313         -0.052219     0.013580   \n",
       "quality                   -0.066978         -0.257283     0.094664   \n",
       "high_quality              -0.065415         -0.266293     0.079776   \n",
       "\n",
       "                      residual sugar  chlorides  free sulfur dioxide  \\\n",
       "fixed acidity              -0.135512   0.342847            -0.287958   \n",
       "volatile acidity           -0.214656   0.447679            -0.366652   \n",
       "citric acid                 0.139406  -0.068775             0.165612   \n",
       "residual sugar              1.000000  -0.158693             0.442292   \n",
       "chlorides                  -0.158693   1.000000            -0.230688   \n",
       "free sulfur dioxide         0.442292  -0.230688             1.000000   \n",
       "total sulfur dioxide        0.507585  -0.334605             0.725992   \n",
       "density                     0.537770   0.435942             0.045244   \n",
       "pH                         -0.275650   0.135843            -0.169330   \n",
       "sulphates                  -0.192490   0.298693            -0.192407   \n",
       "alcohol                    -0.373406  -0.284816            -0.187563   \n",
       "quality                    -0.034939  -0.220808             0.072984   \n",
       "high_quality               -0.035556  -0.198674             0.058594   \n",
       "\n",
       "                      total sulfur dioxide   density        pH  sulphates  \\\n",
       "fixed acidity                    -0.336167  0.437593 -0.210263   0.298460   \n",
       "volatile acidity                 -0.430995  0.281349  0.277885   0.225330   \n",
       "citric acid                       0.220949  0.054520 -0.313258   0.026770   \n",
       "residual sugar                    0.507585  0.537770 -0.275650  -0.192490   \n",
       "chlorides                        -0.334605  0.435942  0.135843   0.298693   \n",
       "free sulfur dioxide               0.725992  0.045244 -0.169330  -0.192407   \n",
       "total sulfur dioxide              1.000000  0.030427 -0.261319  -0.297733   \n",
       "density                           0.030427  1.000000  0.049386   0.255918   \n",
       "pH                               -0.261319  0.049386  1.000000   0.256497   \n",
       "sulphates                        -0.297733  0.255918  0.256497   1.000000   \n",
       "alcohol                          -0.271501 -0.706994  0.094865   0.026635   \n",
       "quality                          -0.039442 -0.311743  0.012310   0.055411   \n",
       "high_quality                     -0.044462 -0.278895  0.008389   0.055471   \n",
       "\n",
       "                       alcohol   quality  high_quality  \n",
       "fixed acidity        -0.067313 -0.066978     -0.065415  \n",
       "volatile acidity     -0.052219 -0.257283     -0.266293  \n",
       "citric acid           0.013580  0.094664      0.079776  \n",
       "residual sugar       -0.373406 -0.034939     -0.035556  \n",
       "chlorides            -0.284816 -0.220808     -0.198674  \n",
       "free sulfur dioxide  -0.187563  0.072984      0.058594  \n",
       "total sulfur dioxide -0.271501 -0.039442     -0.044462  \n",
       "density              -0.706994 -0.311743     -0.278895  \n",
       "pH                    0.094865  0.012310      0.008389  \n",
       "sulphates             0.026635  0.055411      0.055471  \n",
       "alcohol               1.000000  0.449971      0.397052  \n",
       "quality               0.449971  1.000000      0.818768  \n",
       "high_quality          0.397052  0.818768      1.000000  "
      ]
     },
     "execution_count": 38,
     "metadata": {},
     "output_type": "execute_result"
    }
   ],
   "source": [
    "corr_matrix = data.corr()\n",
    "corr_matrix"
   ]
  },
  {
   "cell_type": "code",
   "execution_count": 39,
   "metadata": {},
   "outputs": [
    {
     "data": {
      "image/png": "[encoded data removed]",
      "text/plain": [
       "<Figure size 1800x720 with 2 Axes>"
      ]
     },
     "metadata": {
      "needs_background": "light"
     },
     "output_type": "display_data"
    }
   ],
   "source": [
    "plt.figure(figsize=(25, 10))\n",
    "sns.heatmap(corr_matrix, square=True, annot=True, fmt='.2f', vmin=-1, vmax=1, cmap='coolwarm')\n",
    "pass"
   ]
  },
  {
   "cell_type": "code",
   "execution_count": 40,
   "metadata": {},
   "outputs": [
    {
     "data": {
      "text/html": [
       "<div>\n",
       "<style scoped>\n",
       "    .dataframe tbody tr th:only-of-type {\n",
       "        vertical-align: middle;\n",
       "    }\n",
       "\n",
       "    .dataframe tbody tr th {\n",
       "        vertical-align: top;\n",
       "    }\n",
       "\n",
       "    .dataframe thead th {\n",
       "        text-align: right;\n",
       "    }\n",
       "</style>\n",
       "<table border=\"1\" class=\"dataframe\">\n",
       "  <thead>\n",
       "    <tr style=\"text-align: right;\">\n",
       "      <th></th>\n",
       "      <th>fixed acidity</th>\n",
       "      <th>volatile acidity</th>\n",
       "      <th>citric acid</th>\n",
       "      <th>residual sugar</th>\n",
       "      <th>chlorides</th>\n",
       "      <th>free sulfur dioxide</th>\n",
       "      <th>total sulfur dioxide</th>\n",
       "      <th>density</th>\n",
       "      <th>pH</th>\n",
       "      <th>sulphates</th>\n",
       "      <th>alcohol</th>\n",
       "      <th>quality</th>\n",
       "      <th>high_quality</th>\n",
       "    </tr>\n",
       "  </thead>\n",
       "  <tbody>\n",
       "    <tr>\n",
       "      <th>fixed acidity</th>\n",
       "      <td>True</td>\n",
       "      <td>False</td>\n",
       "      <td>False</td>\n",
       "      <td>False</td>\n",
       "      <td>False</td>\n",
       "      <td>False</td>\n",
       "      <td>False</td>\n",
       "      <td>False</td>\n",
       "      <td>False</td>\n",
       "      <td>False</td>\n",
       "      <td>False</td>\n",
       "      <td>False</td>\n",
       "      <td>False</td>\n",
       "    </tr>\n",
       "    <tr>\n",
       "      <th>volatile acidity</th>\n",
       "      <td>False</td>\n",
       "      <td>True</td>\n",
       "      <td>False</td>\n",
       "      <td>False</td>\n",
       "      <td>False</td>\n",
       "      <td>False</td>\n",
       "      <td>False</td>\n",
       "      <td>False</td>\n",
       "      <td>False</td>\n",
       "      <td>False</td>\n",
       "      <td>False</td>\n",
       "      <td>False</td>\n",
       "      <td>False</td>\n",
       "    </tr>\n",
       "    <tr>\n",
       "      <th>citric acid</th>\n",
       "      <td>False</td>\n",
       "      <td>False</td>\n",
       "      <td>True</td>\n",
       "      <td>False</td>\n",
       "      <td>False</td>\n",
       "      <td>False</td>\n",
       "      <td>False</td>\n",
       "      <td>False</td>\n",
       "      <td>False</td>\n",
       "      <td>False</td>\n",
       "      <td>False</td>\n",
       "      <td>False</td>\n",
       "      <td>False</td>\n",
       "    </tr>\n",
       "    <tr>\n",
       "      <th>residual sugar</th>\n",
       "      <td>False</td>\n",
       "      <td>False</td>\n",
       "      <td>False</td>\n",
       "      <td>True</td>\n",
       "      <td>False</td>\n",
       "      <td>False</td>\n",
       "      <td>True</td>\n",
       "      <td>True</td>\n",
       "      <td>False</td>\n",
       "      <td>False</td>\n",
       "      <td>False</td>\n",
       "      <td>False</td>\n",
       "      <td>False</td>\n",
       "    </tr>\n",
       "    <tr>\n",
       "      <th>chlorides</th>\n",
       "      <td>False</td>\n",
       "      <td>False</td>\n",
       "      <td>False</td>\n",
       "      <td>False</td>\n",
       "      <td>True</td>\n",
       "      <td>False</td>\n",
       "      <td>False</td>\n",
       "      <td>False</td>\n",
       "      <td>False</td>\n",
       "      <td>False</td>\n",
       "      <td>False</td>\n",
       "      <td>False</td>\n",
       "      <td>False</td>\n",
       "    </tr>\n",
       "    <tr>\n",
       "      <th>free sulfur dioxide</th>\n",
       "      <td>False</td>\n",
       "      <td>False</td>\n",
       "      <td>False</td>\n",
       "      <td>False</td>\n",
       "      <td>False</td>\n",
       "      <td>True</td>\n",
       "      <td>True</td>\n",
       "      <td>False</td>\n",
       "      <td>False</td>\n",
       "      <td>False</td>\n",
       "      <td>False</td>\n",
       "      <td>False</td>\n",
       "      <td>False</td>\n",
       "    </tr>\n",
       "    <tr>\n",
       "      <th>total sulfur dioxide</th>\n",
       "      <td>False</td>\n",
       "      <td>False</td>\n",
       "      <td>False</td>\n",
       "      <td>True</td>\n",
       "      <td>False</td>\n",
       "      <td>True</td>\n",
       "      <td>True</td>\n",
       "      <td>False</td>\n",
       "      <td>False</td>\n",
       "      <td>False</td>\n",
       "      <td>False</td>\n",
       "      <td>False</td>\n",
       "      <td>False</td>\n",
       "    </tr>\n",
       "    <tr>\n",
       "      <th>density</th>\n",
       "      <td>False</td>\n",
       "      <td>False</td>\n",
       "      <td>False</td>\n",
       "      <td>True</td>\n",
       "      <td>False</td>\n",
       "      <td>False</td>\n",
       "      <td>False</td>\n",
       "      <td>True</td>\n",
       "      <td>False</td>\n",
       "      <td>False</td>\n",
       "      <td>False</td>\n",
       "      <td>False</td>\n",
       "      <td>False</td>\n",
       "    </tr>\n",
       "    <tr>\n",
       "      <th>pH</th>\n",
       "      <td>False</td>\n",
       "      <td>False</td>\n",
       "      <td>False</td>\n",
       "      <td>False</td>\n",
       "      <td>False</td>\n",
       "      <td>False</td>\n",
       "      <td>False</td>\n",
       "      <td>False</td>\n",
       "      <td>True</td>\n",
       "      <td>False</td>\n",
       "      <td>False</td>\n",
       "      <td>False</td>\n",
       "      <td>False</td>\n",
       "    </tr>\n",
       "    <tr>\n",
       "      <th>sulphates</th>\n",
       "      <td>False</td>\n",
       "      <td>False</td>\n",
       "      <td>False</td>\n",
       "      <td>False</td>\n",
       "      <td>False</td>\n",
       "      <td>False</td>\n",
       "      <td>False</td>\n",
       "      <td>False</td>\n",
       "      <td>False</td>\n",
       "      <td>True</td>\n",
       "      <td>False</td>\n",
       "      <td>False</td>\n",
       "      <td>False</td>\n",
       "    </tr>\n",
       "    <tr>\n",
       "      <th>alcohol</th>\n",
       "      <td>False</td>\n",
       "      <td>False</td>\n",
       "      <td>False</td>\n",
       "      <td>False</td>\n",
       "      <td>False</td>\n",
       "      <td>False</td>\n",
       "      <td>False</td>\n",
       "      <td>False</td>\n",
       "      <td>False</td>\n",
       "      <td>False</td>\n",
       "      <td>True</td>\n",
       "      <td>False</td>\n",
       "      <td>False</td>\n",
       "    </tr>\n",
       "    <tr>\n",
       "      <th>quality</th>\n",
       "      <td>False</td>\n",
       "      <td>False</td>\n",
       "      <td>False</td>\n",
       "      <td>False</td>\n",
       "      <td>False</td>\n",
       "      <td>False</td>\n",
       "      <td>False</td>\n",
       "      <td>False</td>\n",
       "      <td>False</td>\n",
       "      <td>False</td>\n",
       "      <td>False</td>\n",
       "      <td>True</td>\n",
       "      <td>True</td>\n",
       "    </tr>\n",
       "    <tr>\n",
       "      <th>high_quality</th>\n",
       "      <td>False</td>\n",
       "      <td>False</td>\n",
       "      <td>False</td>\n",
       "      <td>False</td>\n",
       "      <td>False</td>\n",
       "      <td>False</td>\n",
       "      <td>False</td>\n",
       "      <td>False</td>\n",
       "      <td>False</td>\n",
       "      <td>False</td>\n",
       "      <td>False</td>\n",
       "      <td>True</td>\n",
       "      <td>True</td>\n",
       "    </tr>\n",
       "  </tbody>\n",
       "</table>\n",
       "</div>"
      ],
      "text/plain": [
       "                      fixed acidity  volatile acidity  citric acid  \\\n",
       "fixed acidity                  True             False        False   \n",
       "volatile acidity              False              True        False   \n",
       "citric acid                   False             False         True   \n",
       "residual sugar                False             False        False   \n",
       "chlorides                     False             False        False   \n",
       "free sulfur dioxide           False             False        False   \n",
       "total sulfur dioxide          False             False        False   \n",
       "density                       False             False        False   \n",
       "pH                            False             False        False   \n",
       "sulphates                     False             False        False   \n",
       "alcohol                       False             False        False   \n",
       "quality                       False             False        False   \n",
       "high_quality                  False             False        False   \n",
       "\n",
       "                      residual sugar  chlorides  free sulfur dioxide  \\\n",
       "fixed acidity                  False      False                False   \n",
       "volatile acidity               False      False                False   \n",
       "citric acid                    False      False                False   \n",
       "residual sugar                  True      False                False   \n",
       "chlorides                      False       True                False   \n",
       "free sulfur dioxide            False      False                 True   \n",
       "total sulfur dioxide            True      False                 True   \n",
       "density                         True      False                False   \n",
       "pH                             False      False                False   \n",
       "sulphates                      False      False                False   \n",
       "alcohol                        False      False                False   \n",
       "quality                        False      False                False   \n",
       "high_quality                   False      False                False   \n",
       "\n",
       "                      total sulfur dioxide  density     pH  sulphates  \\\n",
       "fixed acidity                        False    False  False      False   \n",
       "volatile acidity                     False    False  False      False   \n",
       "citric acid                          False    False  False      False   \n",
       "residual sugar                        True     True  False      False   \n",
       "chlorides                            False    False  False      False   \n",
       "free sulfur dioxide                   True    False  False      False   \n",
       "total sulfur dioxide                  True    False  False      False   \n",
       "density                              False     True  False      False   \n",
       "pH                                   False    False   True      False   \n",
       "sulphates                            False    False  False       True   \n",
       "alcohol                              False    False  False      False   \n",
       "quality                              False    False  False      False   \n",
       "high_quality                         False    False  False      False   \n",
       "\n",
       "                      alcohol  quality  high_quality  \n",
       "fixed acidity           False    False         False  \n",
       "volatile acidity        False    False         False  \n",
       "citric acid             False    False         False  \n",
       "residual sugar          False    False         False  \n",
       "chlorides               False    False         False  \n",
       "free sulfur dioxide     False    False         False  \n",
       "total sulfur dioxide    False    False         False  \n",
       "density                 False    False         False  \n",
       "pH                      False    False         False  \n",
       "sulphates               False    False         False  \n",
       "alcohol                  True    False         False  \n",
       "quality                 False     True          True  \n",
       "high_quality            False     True          True  "
      ]
     },
     "execution_count": 40,
     "metadata": {},
     "output_type": "execute_result"
    }
   ],
   "source": [
    "corr_matrix > 0.5"
   ]
  },
  {
   "cell_type": "markdown",
   "metadata": {},
   "source": [
    "Признаки с сильной корреляцией практически отсутствуют.  \n",
    "Рассмотрим пары наиболее связанных признаков:  \n",
    "\n",
    "'residual sugar' и 'density' со степенью корреляции, равной 0.552517. Значит, что остаточный сахар и плотность вина имеют прямую линейную зависимость.  \n",
    "\n",
    "'free sulfur dioxide' и 'total sulfur dioxide' со степенью корреляции, равной 0.720934. Это очевидно, так как концентрация свободного диоксида серы напрямую влияет на общую концентрацию диоксида серы.\n",
    "\n",
    "'high quality' и 'quality' со степенью корреляции, равной 0.814484. Логично, что чем выше оценка вина по десятибальной шкале, тем выше вероятность его принадлежности классу качественного вина. \n",
    "\n",
    "Кроме того целевой признак 'high quality' имеет значительную корреляцию с признаками 'volatile acidity' (летучая кислотность), 'density' (плотность), 'alcohol' (концентрация алкоголя), с остальными признаками корреляция слабая."
   ]
  },
  {
   "cell_type": "markdown",
   "metadata": {},
   "source": [
    "Выведем несколько диаграмм рассеивания признаков с наиболее сильной корреляцией:"
   ]
  },
  {
   "cell_type": "code",
   "execution_count": 41,
   "metadata": {},
   "outputs": [
    {
     "data": {
      "image/png": "[encoded data removed]",
      "text/plain": [
       "<Figure size 432x288 with 1 Axes>"
      ]
     },
     "metadata": {
      "needs_background": "light"
     },
     "output_type": "display_data"
    }
   ],
   "source": [
    "plt.scatter(data['residual sugar'], data['density'], alpha=0.3)\n",
    "plt.xlabel('residual sugar')\n",
    "plt.ylabel('density')\n",
    "pass"
   ]
  },
  {
   "cell_type": "code",
   "execution_count": 42,
   "metadata": {},
   "outputs": [
    {
     "data": {
      "image/png": "[encoded data removed]",
      "text/plain": [
       "<Figure size 432x288 with 1 Axes>"
      ]
     },
     "metadata": {
      "needs_background": "light"
     },
     "output_type": "display_data"
    }
   ],
   "source": [
    "plt.scatter(data['free sulfur dioxide'], data['total sulfur dioxide'], alpha=0.3)\n",
    "plt.xlabel('free sulfur dioxide')\n",
    "plt.ylabel('total sulfur dioxide')\n",
    "pass"
   ]
  },
  {
   "cell_type": "markdown",
   "metadata": {},
   "source": [
    "## Обработка категориальных признаков"
   ]
  },
  {
   "cell_type": "markdown",
   "metadata": {},
   "source": [
    "Категориальный признак 'color' можно считать бинарным, а значит заменим его значения на '0' и '1'. Так как в наборе данных нет небинарных категориальных признаков, но нормализацию проводить не нужно."
   ]
  },
  {
   "cell_type": "code",
   "execution_count": 43,
   "metadata": {},
   "outputs": [
    {
     "data": {
      "text/html": [
       "<div>\n",
       "<style scoped>\n",
       "    .dataframe tbody tr th:only-of-type {\n",
       "        vertical-align: middle;\n",
       "    }\n",
       "\n",
       "    .dataframe tbody tr th {\n",
       "        vertical-align: top;\n",
       "    }\n",
       "\n",
       "    .dataframe thead th {\n",
       "        text-align: right;\n",
       "    }\n",
       "</style>\n",
       "<table border=\"1\" class=\"dataframe\">\n",
       "  <thead>\n",
       "    <tr style=\"text-align: right;\">\n",
       "      <th></th>\n",
       "      <th>fixed acidity</th>\n",
       "      <th>volatile acidity</th>\n",
       "      <th>citric acid</th>\n",
       "      <th>residual sugar</th>\n",
       "      <th>chlorides</th>\n",
       "      <th>free sulfur dioxide</th>\n",
       "      <th>total sulfur dioxide</th>\n",
       "      <th>density</th>\n",
       "      <th>pH</th>\n",
       "      <th>sulphates</th>\n",
       "      <th>alcohol</th>\n",
       "      <th>quality</th>\n",
       "      <th>color</th>\n",
       "      <th>high_quality</th>\n",
       "    </tr>\n",
       "  </thead>\n",
       "  <tbody>\n",
       "    <tr>\n",
       "      <th>0</th>\n",
       "      <td>7.4</td>\n",
       "      <td>0.70</td>\n",
       "      <td>0.00</td>\n",
       "      <td>1.9</td>\n",
       "      <td>0.076</td>\n",
       "      <td>11.0</td>\n",
       "      <td>34.0</td>\n",
       "      <td>0.99780</td>\n",
       "      <td>3.51</td>\n",
       "      <td>0.56</td>\n",
       "      <td>9.4</td>\n",
       "      <td>5</td>\n",
       "      <td>0</td>\n",
       "      <td>0</td>\n",
       "    </tr>\n",
       "    <tr>\n",
       "      <th>1</th>\n",
       "      <td>7.8</td>\n",
       "      <td>0.88</td>\n",
       "      <td>0.00</td>\n",
       "      <td>2.6</td>\n",
       "      <td>0.098</td>\n",
       "      <td>25.0</td>\n",
       "      <td>67.0</td>\n",
       "      <td>0.99680</td>\n",
       "      <td>3.20</td>\n",
       "      <td>0.68</td>\n",
       "      <td>9.8</td>\n",
       "      <td>5</td>\n",
       "      <td>0</td>\n",
       "      <td>0</td>\n",
       "    </tr>\n",
       "    <tr>\n",
       "      <th>2</th>\n",
       "      <td>7.8</td>\n",
       "      <td>0.76</td>\n",
       "      <td>0.04</td>\n",
       "      <td>2.3</td>\n",
       "      <td>0.092</td>\n",
       "      <td>15.0</td>\n",
       "      <td>54.0</td>\n",
       "      <td>0.99700</td>\n",
       "      <td>3.26</td>\n",
       "      <td>0.65</td>\n",
       "      <td>9.8</td>\n",
       "      <td>5</td>\n",
       "      <td>0</td>\n",
       "      <td>0</td>\n",
       "    </tr>\n",
       "    <tr>\n",
       "      <th>3</th>\n",
       "      <td>11.2</td>\n",
       "      <td>0.28</td>\n",
       "      <td>0.56</td>\n",
       "      <td>1.9</td>\n",
       "      <td>0.075</td>\n",
       "      <td>17.0</td>\n",
       "      <td>60.0</td>\n",
       "      <td>0.99800</td>\n",
       "      <td>3.16</td>\n",
       "      <td>0.58</td>\n",
       "      <td>9.8</td>\n",
       "      <td>6</td>\n",
       "      <td>0</td>\n",
       "      <td>1</td>\n",
       "    </tr>\n",
       "    <tr>\n",
       "      <th>4</th>\n",
       "      <td>7.4</td>\n",
       "      <td>0.70</td>\n",
       "      <td>0.00</td>\n",
       "      <td>1.9</td>\n",
       "      <td>0.076</td>\n",
       "      <td>11.0</td>\n",
       "      <td>34.0</td>\n",
       "      <td>0.99780</td>\n",
       "      <td>3.51</td>\n",
       "      <td>0.56</td>\n",
       "      <td>9.4</td>\n",
       "      <td>5</td>\n",
       "      <td>0</td>\n",
       "      <td>0</td>\n",
       "    </tr>\n",
       "    <tr>\n",
       "      <th>...</th>\n",
       "      <td>...</td>\n",
       "      <td>...</td>\n",
       "      <td>...</td>\n",
       "      <td>...</td>\n",
       "      <td>...</td>\n",
       "      <td>...</td>\n",
       "      <td>...</td>\n",
       "      <td>...</td>\n",
       "      <td>...</td>\n",
       "      <td>...</td>\n",
       "      <td>...</td>\n",
       "      <td>...</td>\n",
       "      <td>...</td>\n",
       "      <td>...</td>\n",
       "    </tr>\n",
       "    <tr>\n",
       "      <th>6492</th>\n",
       "      <td>6.2</td>\n",
       "      <td>0.21</td>\n",
       "      <td>0.29</td>\n",
       "      <td>1.6</td>\n",
       "      <td>0.039</td>\n",
       "      <td>24.0</td>\n",
       "      <td>92.0</td>\n",
       "      <td>0.99114</td>\n",
       "      <td>3.27</td>\n",
       "      <td>0.50</td>\n",
       "      <td>11.2</td>\n",
       "      <td>6</td>\n",
       "      <td>1</td>\n",
       "      <td>1</td>\n",
       "    </tr>\n",
       "    <tr>\n",
       "      <th>6493</th>\n",
       "      <td>6.6</td>\n",
       "      <td>0.32</td>\n",
       "      <td>0.36</td>\n",
       "      <td>8.0</td>\n",
       "      <td>0.047</td>\n",
       "      <td>57.0</td>\n",
       "      <td>168.0</td>\n",
       "      <td>0.99490</td>\n",
       "      <td>3.15</td>\n",
       "      <td>0.46</td>\n",
       "      <td>9.6</td>\n",
       "      <td>5</td>\n",
       "      <td>1</td>\n",
       "      <td>0</td>\n",
       "    </tr>\n",
       "    <tr>\n",
       "      <th>6494</th>\n",
       "      <td>6.5</td>\n",
       "      <td>0.24</td>\n",
       "      <td>0.19</td>\n",
       "      <td>1.2</td>\n",
       "      <td>0.041</td>\n",
       "      <td>30.0</td>\n",
       "      <td>111.0</td>\n",
       "      <td>0.99254</td>\n",
       "      <td>2.99</td>\n",
       "      <td>0.46</td>\n",
       "      <td>9.4</td>\n",
       "      <td>6</td>\n",
       "      <td>1</td>\n",
       "      <td>1</td>\n",
       "    </tr>\n",
       "    <tr>\n",
       "      <th>6495</th>\n",
       "      <td>5.5</td>\n",
       "      <td>0.29</td>\n",
       "      <td>0.30</td>\n",
       "      <td>1.1</td>\n",
       "      <td>0.022</td>\n",
       "      <td>20.0</td>\n",
       "      <td>110.0</td>\n",
       "      <td>0.98869</td>\n",
       "      <td>3.34</td>\n",
       "      <td>0.38</td>\n",
       "      <td>12.8</td>\n",
       "      <td>7</td>\n",
       "      <td>1</td>\n",
       "      <td>1</td>\n",
       "    </tr>\n",
       "    <tr>\n",
       "      <th>6496</th>\n",
       "      <td>6.0</td>\n",
       "      <td>0.21</td>\n",
       "      <td>0.38</td>\n",
       "      <td>0.8</td>\n",
       "      <td>0.020</td>\n",
       "      <td>22.0</td>\n",
       "      <td>98.0</td>\n",
       "      <td>0.98941</td>\n",
       "      <td>3.26</td>\n",
       "      <td>0.32</td>\n",
       "      <td>11.8</td>\n",
       "      <td>6</td>\n",
       "      <td>1</td>\n",
       "      <td>1</td>\n",
       "    </tr>\n",
       "  </tbody>\n",
       "</table>\n",
       "<p>5982 rows × 14 columns</p>\n",
       "</div>"
      ],
      "text/plain": [
       "      fixed acidity  volatile acidity  citric acid  residual sugar  chlorides  \\\n",
       "0               7.4              0.70         0.00             1.9      0.076   \n",
       "1               7.8              0.88         0.00             2.6      0.098   \n",
       "2               7.8              0.76         0.04             2.3      0.092   \n",
       "3              11.2              0.28         0.56             1.9      0.075   \n",
       "4               7.4              0.70         0.00             1.9      0.076   \n",
       "...             ...               ...          ...             ...        ...   \n",
       "6492            6.2              0.21         0.29             1.6      0.039   \n",
       "6493            6.6              0.32         0.36             8.0      0.047   \n",
       "6494            6.5              0.24         0.19             1.2      0.041   \n",
       "6495            5.5              0.29         0.30             1.1      0.022   \n",
       "6496            6.0              0.21         0.38             0.8      0.020   \n",
       "\n",
       "      free sulfur dioxide  total sulfur dioxide  density    pH  sulphates  \\\n",
       "0                    11.0                  34.0  0.99780  3.51       0.56   \n",
       "1                    25.0                  67.0  0.99680  3.20       0.68   \n",
       "2                    15.0                  54.0  0.99700  3.26       0.65   \n",
       "3                    17.0                  60.0  0.99800  3.16       0.58   \n",
       "4                    11.0                  34.0  0.99780  3.51       0.56   \n",
       "...                   ...                   ...      ...   ...        ...   \n",
       "6492                 24.0                  92.0  0.99114  3.27       0.50   \n",
       "6493                 57.0                 168.0  0.99490  3.15       0.46   \n",
       "6494                 30.0                 111.0  0.99254  2.99       0.46   \n",
       "6495                 20.0                 110.0  0.98869  3.34       0.38   \n",
       "6496                 22.0                  98.0  0.98941  3.26       0.32   \n",
       "\n",
       "      alcohol  quality  color  high_quality  \n",
       "0         9.4        5      0             0  \n",
       "1         9.8        5      0             0  \n",
       "2         9.8        5      0             0  \n",
       "3         9.8        6      0             1  \n",
       "4         9.4        5      0             0  \n",
       "...       ...      ...    ...           ...  \n",
       "6492     11.2        6      1             1  \n",
       "6493      9.6        5      1             0  \n",
       "6494      9.4        6      1             1  \n",
       "6495     12.8        7      1             1  \n",
       "6496     11.8        6      1             1  \n",
       "\n",
       "[5982 rows x 14 columns]"
      ]
     },
     "execution_count": 43,
     "metadata": {},
     "output_type": "execute_result"
    }
   ],
   "source": [
    "data['color'] = pd.factorize(data['color'])[0]\n",
    "data"
   ]
  },
  {
   "cell_type": "markdown",
   "metadata": {},
   "source": [
    "## Обучающая и тестовая выборки"
   ]
  },
  {
   "cell_type": "code",
   "execution_count": 44,
   "metadata": {},
   "outputs": [],
   "source": [
    "X = data.drop(['high_quality'], axis = 1)\n",
    "Y = data['high_quality']"
   ]
  },
  {
   "cell_type": "markdown",
   "metadata": {},
   "source": [
    "Разделим данные  на тестовую и обучающую выборки в соотношении 75% к 25% соответственно."
   ]
  },
  {
   "cell_type": "code",
   "execution_count": 45,
   "metadata": {},
   "outputs": [
    {
     "name": "stdout",
     "output_type": "stream",
     "text": [
      "Объем обучающей выборки: 4486 \n",
      "Объем тестовой выборки: 1496\n"
     ]
    }
   ],
   "source": [
    "from sklearn.model_selection import train_test_split\n",
    "X_train, X_test, Y_train, Y_test = train_test_split(X, Y, test_size = 0.25, random_state = 100)\n",
    "\n",
    "N_train = X_train.shape[0]\n",
    "N_test = X_test.shape[0]\n",
    "print( 'Объем обучающей выборки:', N_train, '\\nОбъем тестовой выборки:', N_test)"
   ]
  },
  {
   "cell_type": "markdown",
   "metadata": {},
   "source": [
    "## Запуск классификатора ближайших соседей"
   ]
  },
  {
   "cell_type": "code",
   "execution_count": 46,
   "metadata": {},
   "outputs": [
    {
     "data": {
      "text/plain": [
       "KNeighborsClassifier()"
      ]
     },
     "execution_count": 46,
     "metadata": {},
     "output_type": "execute_result"
    }
   ],
   "source": [
    "from sklearn.neighbors import KNeighborsClassifier\n",
    "from prettytable import PrettyTable \n",
    "\n",
    "knn = KNeighborsClassifier()\n",
    "knn.fit(X_train, Y_train)"
   ]
  },
  {
   "cell_type": "code",
   "execution_count": 47,
   "metadata": {},
   "outputs": [],
   "source": [
    "errors = []\n",
    "for k in [2, 3, 4, 5, 8, 10, 15, 20, 25, 30, 35, 40]:\n",
    "    model = KNeighborsClassifier(n_neighbors = k, p = 2)\n",
    "    model.fit(X_train, Y_train)\n",
    "    errors.append((k, float(1 - model.score(X_train, Y_train)), float(1 - model.score(X_test, Y_test))))"
   ]
  },
  {
   "cell_type": "code",
   "execution_count": 48,
   "metadata": {},
   "outputs": [
    {
     "name": "stdout",
     "output_type": "stream",
     "text": [
      "+--------------------+-----------------------------+----------------------------+\n",
      "| Количество соседей | Ошибка на обучающей выборке | Ошибка на тестовой выборке |\n",
      "+--------------------+-----------------------------+----------------------------+\n",
      "|         2          |     0.09273294694605438     |    0.27874331550802134     |\n",
      "|         3          |     0.10900579580918413     |     0.2586898395721925     |\n",
      "|         4          |     0.14422648238965674     |     0.2954545454545454     |\n",
      "|         5          |     0.15871600534997776     |     0.2727272727272727     |\n",
      "|         8          |     0.19460543914400352     |    0.28275401069518713     |\n",
      "|         10         |      0.2055283102987071     |     0.2820855614973262     |\n",
      "|         15         |     0.23027195720017835     |    0.29278074866310155     |\n",
      "|         20         |     0.24141774409273298     |    0.30681818181818177     |\n",
      "|         25         |      0.2614801604993312     |    0.30548128342245995     |\n",
      "|         30         |      0.2712884529647793     |     0.3088235294117647     |\n",
      "|         35         |     0.28332590280873826     |     0.320855614973262      |\n",
      "|         40         |     0.28332590280873826     |     0.3168449197860963     |\n",
      "+--------------------+-----------------------------+----------------------------+\n"
     ]
    }
   ],
   "source": [
    "table_header = ['Количество соседей','Ошибка на обучающей выборке','Ошибка на тестовой выборке']\n",
    "table = PrettyTable(table_header)\n",
    "\n",
    "for x in errors:\n",
    "    table.add_row(x)\n",
    "\n",
    "print(table)"
   ]
  },
  {
   "cell_type": "markdown",
   "metadata": {},
   "source": [
    "Запустив классификатор ближайших соседей видно, что при увеличении количества соседей, ошибка на обоих выборках увеличивается. При этом ошибка достаточно велика. "
   ]
  },
  {
   "cell_type": "markdown",
   "metadata": {},
   "source": [
    "## Общие выводы\n",
    "\n",
    "В данной работе был проведён анализ набора данных объёма 6497 объектов, которых содержит 15 признаков, соответствующих различным характеристикам вина. На основе значений признаков необходимо предсказать принадлежность вина классу качественных или некачественных (задача бинарной классификации).\n",
    "\n",
    "В ходе работы было выполнено:\n",
    "1. Загрузка данных\n",
    "2. Обнаружение выбросов и избавление от них\n",
    "3. Визуализация данных и вычисление статистических характеристик\n",
    "4. Обработка категориальных признаков с помощью метода бинаризации\n",
    "5. Разбиение данных на обучающую и тестовую выборки\n",
    "6. Запуск классификатора ближайших соседей с разным количеством соседей\n",
    "7. Вычисление ошибки на обучающей и тестовой выборках\n",
    "\n",
    "В результате исследования надора данных и запуска классификатора можно выделить следующие выводы:\n",
    "\n",
    "При запуске классификатора ближайших соседей наименьшее значение ошибки достигается при двух соседях. Значения ошибки равны ~9.27% и ~27.87% для обучающей и тестовой выборки соответственно. Видно, что значения ошибки достаточно большие. Возможно, на это влияет недостаточно большой объём набора данных, несбалансированность классов ( ~64/36), преимущественно слабая корреляция признаков. "
   ]
  }
 ],
 "metadata": {
  "kernelspec": {
   "display_name": "Python 3",
   "language": "python",
   "name": "python3"
  },
  "language_info": {
   "codemirror_mode": {
    "name": "ipython",
    "version": 3
   },
   "file_extension": ".py",
   "mimetype": "text/x-python",
   "name": "python",
   "nbconvert_exporter": "python",
   "pygments_lexer": "ipython3",
   "version": "3.8.3"
  }
 },
 "nbformat": 4,
 "nbformat_minor": 4
}
